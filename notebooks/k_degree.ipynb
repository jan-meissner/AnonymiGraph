{
 "cells": [
  {
   "cell_type": "code",
   "execution_count": 1,
   "metadata": {},
   "outputs": [],
   "source": [
    "%load_ext autoreload\n",
    "%autoreload 2\n",
    "\n",
    "import logging\n",
    "\n",
    "logging.basicConfig(level=logging.WARNING)\n",
    "logging.getLogger('anonymigraph').setLevel(logging.INFO)"
   ]
  },
  {
   "cell_type": "code",
   "execution_count": 2,
   "metadata": {},
   "outputs": [],
   "source": [
    "from anonymigraph.anonymization import KDegreeAnonymizer\n",
    "from notebook_utils import generate_power_law_graph"
   ]
  },
  {
   "cell_type": "code",
   "execution_count": 3,
   "metadata": {},
   "outputs": [
    {
     "name": "stderr",
     "output_type": "stream",
     "text": [
      "INFO:anonymigraph.anonymization._external.k_degree_anonymity:Attempt number 1\n",
      "INFO:anonymigraph.anonymization._external.k_degree_anonymity:Attempt number 2\n",
      "INFO:anonymigraph.anonymization._external.k_degree_anonymity:Attempt number 3\n",
      "INFO:anonymigraph.anonymization._external.k_degree_anonymity:Attempt number 4\n",
      "INFO:anonymigraph.anonymization._external.k_degree_anonymity:Attempt number 5\n",
      "INFO:anonymigraph.anonymization._external.k_degree_anonymity:Attempt number 6\n",
      "INFO:anonymigraph.anonymization._external.k_degree_anonymity:Attempt number 7\n",
      "INFO:anonymigraph.anonymization._external.k_degree_anonymity:Attempt number 8\n",
      "INFO:anonymigraph.anonymization._external.k_degree_anonymity:Attempt number 9\n",
      "INFO:anonymigraph.anonymization._external.k_degree_anonymity:Attempt number 10\n",
      "INFO:anonymigraph.anonymization._external.k_degree_anonymity:Attempt number 11\n",
      "INFO:anonymigraph.anonymization._external.k_degree_anonymity:Attempt number 12\n",
      "INFO:anonymigraph.anonymization._external.k_degree_anonymity:Attempt number 13\n",
      "INFO:anonymigraph.anonymization._external.k_degree_anonymity:Attempt number 14\n",
      "INFO:anonymigraph.anonymization._external.k_degree_anonymity:Attempt number 15\n",
      "INFO:anonymigraph.anonymization._external.k_degree_anonymity:Attempt number 16\n",
      "INFO:anonymigraph.anonymization._external.k_degree_anonymity:Attempt number 17\n",
      "INFO:anonymigraph.anonymization._external.k_degree_anonymity:Attempt number 18\n",
      "INFO:anonymigraph.anonymization._external.k_degree_anonymity:Attempt number 19\n",
      "INFO:anonymigraph.anonymization._external.k_degree_anonymity:Attempt number 20\n",
      "INFO:anonymigraph.anonymization._external.k_degree_anonymity:Attempt number 21\n",
      "INFO:anonymigraph.anonymization._external.k_degree_anonymity:Attempt number 22\n",
      "INFO:anonymigraph.anonymization._external.k_degree_anonymity:Attempt number 23\n",
      "INFO:anonymigraph.anonymization._external.k_degree_anonymity:Attempt number 24\n",
      "INFO:anonymigraph.anonymization._external.k_degree_anonymity:Attempt number 25\n",
      "INFO:anonymigraph.anonymization._external.k_degree_anonymity:Attempt number 26\n",
      "INFO:anonymigraph.anonymization._external.k_degree_anonymity:Attempt number 27\n",
      "INFO:anonymigraph.anonymization._external.k_degree_anonymity:Attempt number 28\n",
      "INFO:anonymigraph.anonymization._external.k_degree_anonymity:Attempt number 29\n",
      "INFO:anonymigraph.anonymization._external.k_degree_anonymity:Attempt number 30\n",
      "INFO:anonymigraph.anonymization._external.k_degree_anonymity:Attempt number 31\n",
      "INFO:anonymigraph.anonymization._external.k_degree_anonymity:Attempt number 32\n",
      "INFO:anonymigraph.anonymization._external.k_degree_anonymity:Attempt number 33\n",
      "INFO:anonymigraph.anonymization._external.k_degree_anonymity:Attempt number 34\n",
      "INFO:anonymigraph.anonymization._external.k_degree_anonymity:Attempt number 35\n",
      "INFO:anonymigraph.anonymization._external.k_degree_anonymity:Attempt number 36\n",
      "INFO:anonymigraph.anonymization._external.k_degree_anonymity:Attempt number 37\n",
      "INFO:anonymigraph.anonymization._external.k_degree_anonymity:Attempt number 38\n",
      "INFO:anonymigraph.anonymization._external.k_degree_anonymity:Attempt number 39\n",
      "INFO:anonymigraph.anonymization._external.k_degree_anonymity:Attempt number 40\n",
      "INFO:anonymigraph.anonymization._external.k_degree_anonymity:Attempt number 41\n",
      "INFO:anonymigraph.anonymization._external.k_degree_anonymity:Attempt number 42\n",
      "INFO:anonymigraph.anonymization._external.k_degree_anonymity:Attempt number 43\n",
      "INFO:anonymigraph.anonymization._external.k_degree_anonymity:Attempt number 44\n",
      "INFO:anonymigraph.anonymization._external.k_degree_anonymity:Attempt number 45\n",
      "INFO:anonymigraph.anonymization._external.k_degree_anonymity:Attempt number 46\n",
      "INFO:anonymigraph.anonymization._external.k_degree_anonymity:Attempt number 47\n",
      "INFO:anonymigraph.anonymization._external.k_degree_anonymity:Attempt number 48\n",
      "INFO:anonymigraph.anonymization._external.k_degree_anonymity:Attempt number 49\n",
      "INFO:anonymigraph.anonymization._external.k_degree_anonymity:Attempt number 50\n",
      "INFO:anonymigraph.anonymization._external.k_degree_anonymity:Attempt number 51\n",
      "INFO:anonymigraph.anonymization._external.k_degree_anonymity:Attempt number 52\n",
      "INFO:anonymigraph.anonymization._external.k_degree_anonymity:Attempt number 53\n",
      "INFO:anonymigraph.anonymization._external.k_degree_anonymity:Attempt number 54\n",
      "INFO:anonymigraph.anonymization._external.k_degree_anonymity:Attempt number 55\n",
      "INFO:anonymigraph.anonymization._external.k_degree_anonymity:Attempt number 56\n",
      "INFO:anonymigraph.anonymization._external.k_degree_anonymity:Attempt number 57\n",
      "INFO:anonymigraph.anonymization._external.k_degree_anonymity:Attempt number 58\n",
      "INFO:anonymigraph.anonymization._external.k_degree_anonymity:Attempt number 59\n",
      "INFO:anonymigraph.anonymization._external.k_degree_anonymity:Attempt number 60\n",
      "INFO:anonymigraph.anonymization._external.k_degree_anonymity:Attempt number 61\n",
      "INFO:anonymigraph.anonymization._external.k_degree_anonymity:Attempt number 62\n",
      "INFO:anonymigraph.anonymization._external.k_degree_anonymity:Attempt number 63\n",
      "INFO:anonymigraph.anonymization._external.k_degree_anonymity:Attempt number 64\n",
      "INFO:anonymigraph.anonymization._external.k_degree_anonymity:Attempt number 65\n",
      "INFO:anonymigraph.anonymization._external.k_degree_anonymity:Attempt number 66\n",
      "INFO:anonymigraph.anonymization._external.k_degree_anonymity:Attempt number 67\n",
      "INFO:anonymigraph.anonymization._external.k_degree_anonymity:Attempt number 68\n",
      "INFO:anonymigraph.anonymization._external.k_degree_anonymity:Attempt number 69\n",
      "INFO:anonymigraph.anonymization._external.k_degree_anonymity:Attempt number 70\n",
      "INFO:anonymigraph.anonymization._external.k_degree_anonymity:Attempt number 71\n",
      "INFO:anonymigraph.anonymization._external.k_degree_anonymity:Attempt number 72\n",
      "INFO:anonymigraph.anonymization._external.k_degree_anonymity:Attempt number 73\n",
      "INFO:anonymigraph.anonymization._external.k_degree_anonymity:Attempt number 74\n",
      "INFO:anonymigraph.anonymization._external.k_degree_anonymity:Attempt number 75\n",
      "INFO:anonymigraph.anonymization._external.k_degree_anonymity:Attempt number 76\n",
      "INFO:anonymigraph.anonymization._external.k_degree_anonymity:Attempt number 77\n",
      "INFO:anonymigraph.anonymization._external.k_degree_anonymity:Attempt number 78\n",
      "INFO:anonymigraph.anonymization._external.k_degree_anonymity:Attempt number 79\n",
      "INFO:anonymigraph.anonymization._external.k_degree_anonymity:Attempt number 80\n",
      "INFO:anonymigraph.anonymization._external.k_degree_anonymity:Attempt number 81\n",
      "INFO:anonymigraph.anonymization._external.k_degree_anonymity:Attempt number 82\n",
      "INFO:anonymigraph.anonymization._external.k_degree_anonymity:Attempt number 83\n",
      "INFO:anonymigraph.anonymization._external.k_degree_anonymity:Attempt number 84\n",
      "INFO:anonymigraph.anonymization._external.k_degree_anonymity:Attempt number 85\n",
      "INFO:anonymigraph.anonymization._external.k_degree_anonymity:Attempt number 86\n",
      "INFO:anonymigraph.anonymization._external.k_degree_anonymity:Attempt number 87\n",
      "INFO:anonymigraph.anonymization._external.k_degree_anonymity:Attempt number 88\n",
      "INFO:anonymigraph.anonymization._external.k_degree_anonymity:Attempt number 89\n",
      "INFO:anonymigraph.anonymization._external.k_degree_anonymity:Attempt number 90\n",
      "INFO:anonymigraph.anonymization._external.k_degree_anonymity:Attempt number 91\n",
      "INFO:anonymigraph.anonymization._external.k_degree_anonymity:Attempt number 92\n",
      "INFO:anonymigraph.anonymization._external.k_degree_anonymity:Attempt number 93\n",
      "INFO:anonymigraph.anonymization._external.k_degree_anonymity:Attempt number 94\n",
      "INFO:anonymigraph.anonymization._external.k_degree_anonymity:Attempt number 95\n",
      "INFO:anonymigraph.anonymization._external.k_degree_anonymity:Attempt number 96\n",
      "INFO:anonymigraph.anonymization._external.k_degree_anonymity:Attempt number 97\n",
      "INFO:anonymigraph.anonymization._external.k_degree_anonymity:Attempt number 98\n",
      "INFO:anonymigraph.anonymization._external.k_degree_anonymity:Attempt number 99\n",
      "INFO:anonymigraph.anonymization._external.k_degree_anonymity:Attempt number 100\n",
      "INFO:anonymigraph.anonymization._external.k_degree_anonymity:Attempt number 101\n",
      "INFO:anonymigraph.anonymization._external.k_degree_anonymity:Attempt number 102\n",
      "INFO:anonymigraph.anonymization._external.k_degree_anonymity:Attempt number 103\n",
      "INFO:anonymigraph.anonymization._external.k_degree_anonymity:Attempt number 104\n",
      "INFO:anonymigraph.anonymization._external.k_degree_anonymity:Attempt number 105\n",
      "INFO:anonymigraph.anonymization._external.k_degree_anonymity:Attempt number 106\n",
      "INFO:anonymigraph.anonymization._external.k_degree_anonymity:Attempt number 107\n",
      "INFO:anonymigraph.anonymization._external.k_degree_anonymity:Attempt number 108\n",
      "INFO:anonymigraph.anonymization._external.k_degree_anonymity:Attempt number 109\n",
      "INFO:anonymigraph.anonymization._external.k_degree_anonymity:Attempt number 110\n",
      "INFO:anonymigraph.anonymization._external.k_degree_anonymity:Attempt number 111\n",
      "INFO:anonymigraph.anonymization._external.k_degree_anonymity:Attempt number 112\n",
      "INFO:anonymigraph.anonymization._external.k_degree_anonymity:Attempt number 113\n",
      "INFO:anonymigraph.anonymization._external.k_degree_anonymity:Attempt number 114\n",
      "INFO:anonymigraph.anonymization._external.k_degree_anonymity:Attempt number 115\n",
      "INFO:anonymigraph.anonymization._external.k_degree_anonymity:Attempt number 116\n",
      "INFO:anonymigraph.anonymization._external.k_degree_anonymity:Attempt number 117\n",
      "INFO:anonymigraph.anonymization._external.k_degree_anonymity:Attempt number 118\n",
      "INFO:anonymigraph.anonymization._external.k_degree_anonymity:Attempt number 119\n",
      "INFO:anonymigraph.anonymization._external.k_degree_anonymity:Attempt number 120\n"
     ]
    }
   ],
   "source": [
    "#G = nx.erdos_renyi_graph(1000, 50/1000)\n",
    "\n",
    "G = generate_power_law_graph(num_nodes = 2000, exponent = 2, random_seed=2) # K-Degree has problems on power law graphs\n",
    "\n",
    "# Anonymize the Graph G with 100-degree anonymity\n",
    "k = 100\n",
    "Ga = KDegreeAnonymizer(k, noise=10, with_deletions=True).anonymize(G, random_seed=31221)"
   ]
  },
  {
   "cell_type": "code",
   "execution_count": 4,
   "metadata": {},
   "outputs": [
    {
     "data": {
      "image/png": "[encoded data removed]",
      "text/plain": [
       "<Figure size 640x480 with 1 Axes>"
      ]
     },
     "metadata": {},
     "output_type": "display_data"
    }
   ],
   "source": [
    "import matplotlib.pyplot as plt\n",
    "\n",
    "def plot_degree_distribution(G):\n",
    "    degrees = [G.degree(n) for n in G.nodes()]\n",
    "    plt.hist(degrees, bins=range(1, max(degrees)+1), density=False, log=True, align='left')\n",
    "    plt.xlabel('Degree')\n",
    "    plt.ylabel('Count')\n",
    "    plt.xscale('log')\n",
    "    plt.yscale('log')\n",
    "    plt.title('Log-Log Plot of Degree Distribution')\n",
    "    plt.show()\n",
    "\n",
    "plot_degree_distribution(G)"
   ]
  },
  {
   "cell_type": "code",
   "execution_count": 5,
   "metadata": {},
   "outputs": [
    {
     "name": "stdout",
     "output_type": "stream",
     "text": [
      "------------------------------\n",
      "Number of edges: 3878\n",
      "Percentage of nodes that satisfy 100-degree anonymity: 0.841\n",
      "Number of isolated nodes: 0\n",
      "------------------------------\n",
      "Number of edges: 3429\n",
      "Percentage of nodes that satisfy 100-degree anonymity: 1.000\n",
      "Number of isolated nodes: 0\n"
     ]
    }
   ],
   "source": [
    "from collections import Counter\n",
    "\n",
    "def evaluate(graph, k):\n",
    "    \"\"\"Evaluates the level of k-anonymity on a graph.\"\"\"\n",
    "\n",
    "    degree_count = Counter(d for _, d in graph.degree())\n",
    "    k_anonymous_nodes = sum(count for _, count in degree_count.items() if count >= k)\n",
    "\n",
    "    print(\"-\"*30)\n",
    "    print(f\"Number of edges: {graph.number_of_edges()}\")\n",
    "    print(f\"Percentage of nodes that satisfy {k}-degree anonymity: {k_anonymous_nodes / graph.number_of_nodes():.3f}\")\n",
    "    print(f\"Number of isolated nodes: {degree_count[0]}\")\n",
    "\n",
    "k_test = k + 0\n",
    "evaluate(G, k_test)\n",
    "evaluate(Ga, k_test)"
   ]
  },
  {
   "cell_type": "code",
   "execution_count": 6,
   "metadata": {},
   "outputs": [
    {
     "data": {
      "image/png": "[encoded data removed]",
      "text/plain": [
       "<Figure size 640x480 with 1 Axes>"
      ]
     },
     "metadata": {},
     "output_type": "display_data"
    }
   ],
   "source": [
    "plot_degree_distribution(Ga)"
   ]
  }
 ],
 "metadata": {
  "kernelspec": {
   "display_name": "venv",
   "language": "python",
   "name": "python3"
  },
  "language_info": {
   "codemirror_mode": {
    "name": "ipython",
    "version": 3
   },
   "file_extension": ".py",
   "mimetype": "text/x-python",
   "name": "python",
   "nbconvert_exporter": "python",
   "pygments_lexer": "ipython3",
   "version": "3.12.1"
  }
 },
 "nbformat": 4,
 "nbformat_minor": 2
}
