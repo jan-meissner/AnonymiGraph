{
 "cells": [
  {
   "cell_type": "code",
   "execution_count": null,
   "metadata": {},
   "outputs": [],
   "source": [
    "%load_ext autoreload\n",
    "%autoreload 2"
   ]
  },
  {
   "cell_type": "code",
   "execution_count": null,
   "metadata": {},
   "outputs": [],
   "source": [
    "import networkx as nx\n",
    "import numpy as np\n",
    "from scipy.sparse.linalg import eigs\n",
    "import scipy.sparse as sp\n",
    "\n",
    "from randcolorgraphs.utils.calculate_katz import calculate_katz\n",
    "\n",
    "def get_edge_vector_from_adj_matrix(adj_matrix):\n",
    "    sparse_matrix = sp.csr_matrix(adj_matrix)\n",
    "    row_indices, col_indices = sparse_matrix.nonzero()\n",
    "    edge_vector = np.vstack((row_indices, col_indices)).T\n",
    "    return edge_vector\n",
    "\n",
    "def generate_adjacency_matrix_and_katz_vector(n, p, seed=42, alpha=0.1, beta=1.0):\n",
    "    G = nx.erdos_renyi_graph(n, p, directed=True, seed=seed)\n",
    "    A_G = nx.adjacency_matrix(G).astype(np.float64)\n",
    "\n",
    "\n",
    "    eigenvalues, _ = eigs(A_G, k=1, which='LM')  # 'LM': Largest Magnitude, tol is tolerance\n",
    "    spectral_radius_G = np.abs(eigenvalues).max()\n",
    "    print(f\"Spectral Radius: {spectral_radius_G}, alpha_max = {1/spectral_radius_G}\")\n",
    "    print(\"calculating katz\")\n",
    "    katz_centrality = calculate_katz(A_G, alpha = alpha, beta=beta)\n",
    "    print(\"done calculating katz\")\n",
    "    # Reorder nodes based on Katz centrality\n",
    "    sorted_indices = np.argsort(katz_centrality)\n",
    "    sorted_nodes = np.array(G.nodes())[sorted_indices]\n",
    "\n",
    "    # Generate the adjacency matrix\n",
    "    adj_matrix = nx.adjacency_matrix(G, nodelist=sorted_nodes)\n",
    "\n",
    "    sorted_katz_vector = katz_centrality[sorted_indices]\n",
    "\n",
    "    assert np.allclose(sorted_katz_vector, calculate_katz(adj_matrix.astype(np.float64), alpha = alpha, beta=beta))\n",
    "    return adj_matrix, sorted_katz_vector\n"
   ]
  },
  {
   "cell_type": "code",
   "execution_count": null,
   "metadata": {},
   "outputs": [],
   "source": [
    "n = 500\n",
    "p = 6/n\n",
    "adj_matrix, katz_vector = generate_adjacency_matrix_and_katz_vector(n=n, p=p, alpha=0.1)\n",
    "edges = get_edge_vector_from_adj_matrix(adj_matrix)"
   ]
  },
  {
   "cell_type": "code",
   "execution_count": null,
   "metadata": {},
   "outputs": [],
   "source": [
    "from randcolorgraphs.algorithms.linear_scalarization.unoptimized_greedy_search import unoptimized_greedy_search_linear_scalarization\n",
    "w = np.exp(-9)\n",
    "\n",
    "# Can go to n ~ 500; smaller w -> much slower\n",
    "clusters, _ = unoptimized_greedy_search_linear_scalarization(katz_vector, adj_matrix.todense(), np.array([0]*len(katz_vector), dtype=np.int64), w=w, pam_cluster_dist=2)"
   ]
  },
  {
   "cell_type": "code",
   "execution_count": null,
   "metadata": {},
   "outputs": [],
   "source": [
    "from randcolorgraphs.algorithms.linear_scalarization.optimal_contiguous.optimal_contiguous_linear_scalarization_algo import optimal_contiguous_linear_scalarization_algo\n",
    "\n",
    "# Can go up to n ~ 2_000; indepedented of w\n",
    "clusters = optimal_contiguous_linear_scalarization_algo(katz_vector, adj_matrix.todense(), w)"
   ]
  }
 ],
 "metadata": {
  "kernelspec": {
   "display_name": "venv",
   "language": "python",
   "name": "python3"
  },
  "language_info": {
   "codemirror_mode": {
    "name": "ipython",
    "version": 3
   },
   "file_extension": ".py",
   "mimetype": "text/x-python",
   "name": "python",
   "nbconvert_exporter": "python",
   "pygments_lexer": "ipython3",
   "version": "3.12.1"
  }
 },
 "nbformat": 4,
 "nbformat_minor": 2
}
