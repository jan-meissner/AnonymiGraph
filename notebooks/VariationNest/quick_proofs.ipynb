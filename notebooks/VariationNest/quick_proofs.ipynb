{
 "cells": [
  {
   "cell_type": "code",
   "execution_count": 1,
   "metadata": {},
   "outputs": [],
   "source": [
    "%load_ext autoreload\n",
    "%autoreload 2"
   ]
  },
  {
   "cell_type": "code",
   "execution_count": 10,
   "metadata": {},
   "outputs": [
    {
     "name": "stdout",
     "output_type": "stream",
     "text": [
      "Are the two forms equivalent?: True\n"
     ]
    }
   ],
   "source": []
  },
  {
   "cell_type": "code",
   "execution_count": 11,
   "metadata": {},
   "outputs": [
    {
     "name": "stdout",
     "output_type": "stream",
     "text": [
      "Best State: [2 2 2 2 1 1 1 1 0 0]\n",
      "Best Objective: 490.5\n"
     ]
    }
   ],
   "source": [
    "from greedy_algo_inefficient import greedy_algorithm_inefficient\n",
    "\n",
    "\n",
    "v_K = np.array([1,2,3,4, 20,21,22,23, 99,100])\n",
    "p = 0.5\n",
    "A = np.random.binomial(1, p, (len(v_K), len(v_K)))\n",
    "inital_clusters = np.array([0,]*len(v_K))\n",
    "w = 20\n",
    "\n",
    "\n",
    "best_state, best_objective = greedy_algorithm_inefficient(v_K, A, inital_clusters, w, two_swap_max_dist=3, one_swap_max_dist=3)\n",
    "\n",
    "print(\"Best State:\", best_state)\n",
    "print(\"Best Objective:\", best_objective)\n"
   ]
  }
 ],
 "metadata": {
  "kernelspec": {
   "display_name": "venv",
   "language": "python",
   "name": "python3"
  },
  "language_info": {
   "codemirror_mode": {
    "name": "ipython",
    "version": 3
   },
   "file_extension": ".py",
   "mimetype": "text/x-python",
   "name": "python",
   "nbconvert_exporter": "python",
   "pygments_lexer": "ipython3",
   "version": "3.12.1"
  }
 },
 "nbformat": 4,
 "nbformat_minor": 2
}
