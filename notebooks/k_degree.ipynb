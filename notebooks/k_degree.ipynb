{
 "cells": [
  {
   "cell_type": "code",
   "execution_count": 7,
   "metadata": {},
   "outputs": [
    {
     "name": "stdout",
     "output_type": "stream",
     "text": [
      "The autoreload extension is already loaded. To reload it, use:\n",
      "  %reload_ext autoreload\n"
     ]
    }
   ],
   "source": [
    "%load_ext autoreload\n",
    "%autoreload 2\n",
    "\n",
    "import logging\n",
    "\n",
    "logging.basicConfig(level=logging.WARNING)\n",
    "logging.getLogger('anonymigraph').setLevel(logging.INFO)"
   ]
  },
  {
   "cell_type": "code",
   "execution_count": 8,
   "metadata": {},
   "outputs": [],
   "source": [
    "from anonymigraph.anonymization import k_degree_anonymity\n",
    "import networkx as nx\n",
    "import numpy as np\n",
    "from utils_notebooks import generate_power_law_graph"
   ]
  },
  {
   "cell_type": "code",
   "execution_count": 9,
   "metadata": {},
   "outputs": [
    {
     "name": "stdout",
     "output_type": "stream",
     "text": [
      "Max Degree: 1251 - Median 1.0 - Mean 4.866\n",
      "Attempt number 1\n",
      "Attempt number 2\n",
      "Attempt number 3\n",
      "Attempt number 4\n",
      "Attempt number 5\n",
      "Attempt number 6\n",
      "Attempt number 7\n",
      "Attempt number 8\n",
      "Attempt number 9\n",
      "Attempt number 10\n",
      "Attempt number 11\n",
      "Attempt number 12\n",
      "Attempt number 13\n",
      "Attempt number 14\n",
      "Attempt number 15\n",
      "Attempt number 16\n",
      "Attempt number 17\n",
      "Attempt number 18\n",
      "Attempt number 19\n",
      "Attempt number 20\n",
      "Attempt number 21\n",
      "Attempt number 22\n",
      "Attempt number 23\n",
      "Attempt number 24\n",
      "Attempt number 25\n",
      "Attempt number 26\n",
      "Attempt number 27\n",
      "Attempt number 28\n",
      "Attempt number 29\n",
      "Attempt number 30\n",
      "Attempt number 31\n",
      "Attempt number 32\n",
      "Attempt number 33\n",
      "Attempt number 34\n",
      "Attempt number 35\n",
      "Attempt number 36\n",
      "Attempt number 37\n",
      "Attempt number 38\n",
      "Attempt number 39\n",
      "Attempt number 40\n",
      "Attempt number 41\n",
      "Attempt number 42\n",
      "Attempt number 43\n",
      "Attempt number 44\n",
      "Attempt number 45\n",
      "Attempt number 46\n",
      "Attempt number 47\n",
      "Attempt number 48\n",
      "Attempt number 49\n",
      "Attempt number 50\n",
      "Attempt number 51\n",
      "Attempt number 52\n",
      "Attempt number 53\n",
      "Attempt number 54\n",
      "Attempt number 55\n",
      "Attempt number 56\n",
      "Attempt number 57\n",
      "Attempt number 58\n",
      "Attempt number 59\n",
      "Attempt number 60\n",
      "Attempt number 61\n",
      "Attempt number 62\n",
      "Attempt number 63\n",
      "Attempt number 64\n",
      "Attempt number 65\n",
      "Attempt number 66\n",
      "Attempt number 67\n",
      "Attempt number 68\n",
      "Attempt number 69\n",
      "Attempt number 70\n",
      "Attempt number 71\n",
      "Attempt number 72\n",
      "Attempt number 73\n",
      "Attempt number 74\n",
      "Attempt number 75\n",
      "Attempt number 76\n",
      "Attempt number 77\n",
      "Attempt number 78\n",
      "Attempt number 79\n",
      "Attempt number 80\n",
      "Attempt number 81\n",
      "Attempt number 82\n",
      "Attempt number 83\n",
      "Attempt number 84\n",
      "Attempt number 85\n",
      "Attempt number 86\n",
      "Attempt number 87\n",
      "Attempt number 88\n",
      "Attempt number 89\n",
      "Attempt number 90\n",
      "Attempt number 91\n",
      "Attempt number 92\n",
      "Attempt number 93\n",
      "Attempt number 94\n",
      "Attempt number 95\n",
      "Attempt number 96\n",
      "Attempt number 97\n",
      "Attempt number 98\n",
      "Attempt number 99\n",
      "Attempt number 100\n",
      "Attempt number 101\n",
      "Attempt number 102\n",
      "Attempt number 103\n",
      "Attempt number 104\n",
      "Attempt number 105\n",
      "Attempt number 106\n",
      "Attempt number 107\n",
      "Attempt number 108\n",
      "Attempt number 109\n",
      "Attempt number 110\n",
      "Attempt number 111\n",
      "Attempt number 112\n",
      "Attempt number 113\n",
      "Attempt number 114\n",
      "Attempt number 115\n",
      "Attempt number 116\n"
     ]
    }
   ],
   "source": [
    "#G = nx.erdos_renyi_graph(1000, 50/1000)\n",
    "G = generate_power_law_graph(num_nodes = 2000, exponent = 2) # K-Degree has problems on power law graphs\n",
    "\n",
    "# Anonymize the Graph G\n",
    "k = 100\n",
    "Ga = k_degree_anonymity(G, k, noise=10, with_deletions=True, random_seed=31221)"
   ]
  },
  {
   "cell_type": "code",
   "execution_count": 10,
   "metadata": {},
   "outputs": [
    {
     "data": {
      "image/png": "[encoded data removed]",
      "text/plain": [
       "<Figure size 640x480 with 1 Axes>"
      ]
     },
     "metadata": {},
     "output_type": "display_data"
    }
   ],
   "source": [
    "import matplotlib.pyplot as plt\n",
    "\n",
    "def plot_degree_distribution(G):\n",
    "    degrees = [G.degree(n) for n in G.nodes()]\n",
    "    plt.hist(degrees, bins=range(1, max(degrees)+1), density=False, log=True, align='left')\n",
    "    plt.xlabel('Degree')\n",
    "    plt.ylabel('Count')\n",
    "    plt.xscale('log')\n",
    "    plt.yscale('log')\n",
    "    plt.title('Log-Log Plot of Degree Distribution')\n",
    "    plt.show()\n",
    "\n",
    "plot_degree_distribution(G)"
   ]
  },
  {
   "cell_type": "code",
   "execution_count": 11,
   "metadata": {},
   "outputs": [
    {
     "name": "stdout",
     "output_type": "stream",
     "text": [
      "------------------------------\n",
      "Number of edges: 3758\n",
      "Percentage of nodes that satisfy 100-degree anonymity: 0.828\n",
      "Number of isolated nodes: 0\n",
      "------------------------------\n",
      "Number of edges: 3382\n",
      "Percentage of nodes that satisfy 100-degree anonymity: 1.000\n",
      "Number of isolated nodes: 0\n"
     ]
    }
   ],
   "source": [
    "from collections import Counter\n",
    "\n",
    "def evaluate(graph, k):\n",
    "    \"\"\"Evaluates the level of k-anonymity on a graph.\"\"\"\n",
    "\n",
    "    degree_count = Counter(d for _, d in graph.degree())\n",
    "    k_anonymous_nodes = sum(count for _, count in degree_count.items() if count >= k)\n",
    "\n",
    "    print(\"-\"*30)\n",
    "    print(f\"Number of edges: {graph.number_of_edges()}\")\n",
    "    print(f\"Percentage of nodes that satisfy {k}-degree anonymity: {k_anonymous_nodes / graph.number_of_nodes():.3f}\")\n",
    "    print(f\"Number of isolated nodes: {degree_count[0]}\")\n",
    "\n",
    "k_test = k + 0\n",
    "evaluate(G, k_test)\n",
    "evaluate(Ga, k_test)"
   ]
  },
  {
   "cell_type": "code",
   "execution_count": 12,
   "metadata": {},
   "outputs": [
    {
     "data": {
      "image/png": "[encoded data removed]",
      "text/plain": [
       "<Figure size 640x480 with 1 Axes>"
      ]
     },
     "metadata": {},
     "output_type": "display_data"
    }
   ],
   "source": [
    "plot_degree_distribution(Ga)"
   ]
  }
 ],
 "metadata": {
  "kernelspec": {
   "display_name": "venv",
   "language": "python",
   "name": "python3"
  },
  "language_info": {
   "codemirror_mode": {
    "name": "ipython",
    "version": 3
   },
   "file_extension": ".py",
   "mimetype": "text/x-python",
   "name": "python",
   "nbconvert_exporter": "python",
   "pygments_lexer": "ipython3",
   "version": "3.12.1"
  }
 },
 "nbformat": 4,
 "nbformat_minor": 2
}
