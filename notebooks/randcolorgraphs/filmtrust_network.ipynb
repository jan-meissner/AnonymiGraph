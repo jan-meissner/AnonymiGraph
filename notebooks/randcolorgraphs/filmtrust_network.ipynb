{
 "cells": [
  {
   "cell_type": "code",
   "execution_count": null,
   "metadata": {},
   "outputs": [],
   "source": [
    "%load_ext autoreload\n",
    "%autoreload 2"
   ]
  },
  {
   "cell_type": "code",
   "execution_count": null,
   "metadata": {},
   "outputs": [],
   "source": [
    "import networkx as nx\n",
    "import pandas as pd\n",
    "import tarfile\n",
    "import requests\n",
    "from io import BytesIO\n",
    "\n",
    "def load_librec_filmtrust_trust():\n",
    "    url = 'http://konect.cc/files/download.tsv.librec-filmtrust-trust.tar.bz2'\n",
    "    extract_filename = 'librec-filmtrust-trust/out.librec-filmtrust-trust'\n",
    "    response = requests.get(url)\n",
    "    tar_file = BytesIO(response.content)\n",
    "\n",
    "    with tarfile.open(fileobj=tar_file, mode=\"r:bz2\") as tar:\n",
    "        extracted_file = tar.extractfile(extract_filename)\n",
    "        df = pd.read_csv(extracted_file, comment='%', delimiter='\\t', header=None, names=['src', 'dst'])\n",
    "\n",
    "    G = nx.from_pandas_edgelist(df, 'src', 'dst', create_using=nx.DiGraph())\n",
    "    return G\n",
    "\n",
    "G = load_librec_filmtrust_trust()\n",
    "print(G)"
   ]
  },
  {
   "cell_type": "code",
   "execution_count": null,
   "metadata": {},
   "outputs": [],
   "source": [
    "import networkx as nx\n",
    "import matplotlib.pyplot as plt\n",
    "\n",
    "# Function to draw the entire graph\n",
    "def draw_entire_graph(G, node_size=10, node_color='blue', node_alpha=0.5, edge_color='gray', edge_alpha=0.3):\n",
    "    plt.figure(figsize=(14, 14))  # Increase the figure size for better visibility\n",
    "    pos = nx.spring_layout(G, k=0.1)  # k controls the distance between nodes\n",
    "    nx.draw_networkx_nodes(G, pos, node_size=node_size, node_color=node_color, alpha=node_alpha)\n",
    "    nx.draw_networkx_edges(G, pos, arrowstyle='-|>', arrowsize=10, edge_color=edge_color, alpha=edge_alpha)\n",
    "    plt.title(\"Visualization of the Entire Directed Graph\")\n",
    "    plt.show()\n",
    "\n",
    "# Draw the entire graph\n",
    "draw_entire_graph(G)\n"
   ]
  },
  {
   "cell_type": "code",
   "execution_count": null,
   "metadata": {},
   "outputs": [],
   "source": [
    "from scipy.sparse.linalg import eigs\n",
    "import numpy as np\n",
    "\n",
    "from randcolorgraphs.utils.calculate_katz import calculate_katz\n",
    "\n",
    "def get_adj_and_katz(G, alpha=0.1, beta=1.0):\n",
    "    A_G = nx.adjacency_matrix(G).astype(np.float64)\n",
    "\n",
    "    eigenvalues, _ = eigs(A_G, k=1, which='LM')  # 'LM': Largest Magnitude, tol is tolerance\n",
    "    spectral_radius_G = np.abs(eigenvalues).max()\n",
    "    print(f\"Spectral Radius: {spectral_radius_G}, alpha_max = {1/spectral_radius_G}\")\n",
    "    print(\"calculating katz centrality\")\n",
    "    katz_centrality = calculate_katz(A_G, alpha = alpha, beta=beta)\n",
    "    print(\"done calculating katz\")\n",
    "\n",
    "    # Reorder nodes based on Katz centrality\n",
    "    sorted_indices = np.argsort(katz_centrality)\n",
    "    sorted_nodes = np.array(G.nodes())[sorted_indices]\n",
    "\n",
    "    # Generate the adjacency matrix\n",
    "    adj_matrix = nx.adjacency_matrix(G, nodelist=sorted_nodes)\n",
    "\n",
    "    sorted_katz_vector = katz_centrality[sorted_indices]\n",
    "\n",
    "    assert np.allclose(sorted_katz_vector, calculate_katz(adj_matrix.astype(np.float64), alpha = alpha, beta=beta))\n",
    "    return adj_matrix, sorted_katz_vector"
   ]
  },
  {
   "cell_type": "code",
   "execution_count": null,
   "metadata": {},
   "outputs": [],
   "source": [
    "A_G, katz_centrality = get_adj_and_katz(G, alpha = 0.06)\n",
    "A_G_dense = A_G.todense()"
   ]
  },
  {
   "cell_type": "code",
   "execution_count": null,
   "metadata": {},
   "outputs": [],
   "source": [
    "import kmeans1d\n",
    "\n",
    "from randcolorgraphs.objectives.get_cluster_loss_ell_sqr import get_cluster_loss_ell_sqr\n",
    "from randcolorgraphs.objectives.get_expected_edgeoverlap import get_expected_edgeoverlap\n",
    "from randcolorgraphs.algorithms.linear_scalarization.optimal_contiguous.optimal_contiguous_linear_scalarization_algo import optimal_contiguous_linear_scalarization_algo\n",
    "\n",
    "\n",
    "from fast_pareto import is_pareto_front\n",
    "\n",
    "def evaluate_cluster_assignment(katz_centrality, A, clusters):\n",
    "    ell_sqr = get_cluster_loss_ell_sqr(katz_centrality, clusters)\n",
    "    expected_edge_overlap = get_expected_edgeoverlap(A, clusters)\n",
    "    return [ell_sqr, expected_edge_overlap]\n",
    "\n",
    "### Analyze all possible clusters for their performance regarding specific merics and booleans\n",
    "df = pd.DataFrame(columns=[\"ell_sqr\", \"expected_edge_overlap\", \"method_type\"])\n",
    "\n",
    "max_k = 30\n",
    "for k in range(1, 300, 2):\n",
    "    colors, _ = kmeans1d.cluster(katz_centrality, k)\n",
    "    clusters = np.array(colors)\n",
    "    df.loc[len(df)] = evaluate_cluster_assignment(katz_centrality, A_G, clusters) + [f\"Kmeans1d (k={k}) on Katz centrality\"]"
   ]
  },
  {
   "cell_type": "code",
   "execution_count": null,
   "metadata": {},
   "outputs": [],
   "source": [
    "for w in np.exp(-np.linspace(0,18,30)):\n",
    "    clusters = optimal_contiguous_linear_scalarization_algo(katz_centrality, A_G_dense, w)\n",
    "    print(f\"Done w={w}\")\n",
    "    df.loc[len(df)] = evaluate_cluster_assignment(katz_centrality, A_G, clusters) + [f\"Opt. Cont. Scal. (w={w})\"]\n"
   ]
  },
  {
   "cell_type": "code",
   "execution_count": 19,
   "metadata": {},
   "outputs": [
    {
     "name": "stdout",
     "output_type": "stream",
     "text": [
      "Iteration 238 Objective: 0.0005801788117470291 move_type split\n",
      "Iteration 239 Objective: 0.0005799510622220021 move_type merge-split\n",
      "Iteration 240 Objective: 0.0005797410777167277 move_type split\n",
      "Iteration 241 Objective: 0.0005795485548013797 move_type split\n",
      "Iteration 242 Objective: 0.0005793777573530819 move_type merge-split\n",
      "Iteration 243 Objective: 0.0005792095566181717 move_type split\n",
      "Iteration 244 Objective: 0.0005790631514613079 move_type split\n",
      "Iteration 245 Objective: 0.0005789351189375714 move_type split\n",
      "Iteration 246 Objective: 0.0005788154494136595 move_type split\n",
      "Iteration 247 Objective: 0.0005786961635040651 move_type split\n",
      "Iteration 248 Objective: 0.0005785829308539213 move_type split\n",
      "Iteration 249 Objective: 0.0005783007135444651 move_type merge-split\n",
      "Iteration 250 Objective: 0.0005781944150011642 move_type split\n",
      "Iteration 251 Objective: 0.0005781025456518841 move_type split\n",
      "Iteration 252 Objective: 0.0005780196837185692 move_type split\n",
      "Iteration 253 Objective: 0.000577942491499945 move_type split\n",
      "Iteration 254 Objective: 0.0005778765903319263 move_type split\n",
      "Iteration 255 Objective: 0.0005778283630144323 move_type swap\n",
      "Iteration 256 Objective: 0.000577798888537351 move_type split\n",
      "Iteration 257 Objective: 0.0005777862305831107 move_type split\n",
      "Iteration 258 Objective: 0.0005777744258055108 move_type split\n",
      "Done w=5.13118707099276e-07\n",
      "Iteration 0 Objective: 138.68483764602405 move_type split\n",
      "Iteration 1 Objective: 68.19759254402393 move_type split\n",
      "Iteration 2 Objective: 43.76088625604132 move_type split\n",
      "Iteration 3 Objective: 31.705831378667806 move_type split\n",
      "Iteration 4 Objective: 20.14060735660498 move_type split\n",
      "Iteration 5 Objective: 12.438256021851814 move_type split\n",
      "Iteration 6 Objective: 8.206004275508569 move_type split\n",
      "Iteration 7 Objective: 6.564354925811941 move_type split\n",
      "Iteration 8 Objective: 5.1592292812166285 move_type split\n",
      "Iteration 9 Objective: 3.893916861370811 move_type split\n",
      "Iteration 10 Objective: 3.1346999583059527 move_type split\n",
      "Iteration 11 Objective: 2.7001501378998896 move_type split\n",
      "Iteration 12 Objective: 2.3052126097256496 move_type split\n",
      "Iteration 13 Objective: 1.9729071052512035 move_type split\n",
      "Iteration 14 Objective: 1.652693796557896 move_type split\n",
      "Iteration 15 Objective: 1.41620635347942 move_type split\n",
      "Iteration 16 Objective: 1.214567761601299 move_type split\n",
      "Iteration 17 Objective: 1.0502020635900495 move_type split\n",
      "Iteration 18 Objective: 0.8915078527632266 move_type split\n",
      "Iteration 19 Objective: 0.7547540026469165 move_type split\n",
      "Iteration 20 Objective: 0.6580907987426283 move_type split\n",
      "Iteration 21 Objective: 0.5852730665855177 move_type split\n",
      "Iteration 22 Objective: 0.5258530270661692 move_type split\n",
      "Iteration 23 Objective: 0.47666080433121616 move_type split\n",
      "Iteration 24 Objective: 0.4317099970228847 move_type split\n",
      "Iteration 25 Objective: 0.39133519369190556 move_type split\n",
      "Iteration 26 Objective: 0.3517446102332379 move_type split\n",
      "Iteration 27 Objective: 0.31460855963467005 move_type split\n",
      "Iteration 28 Objective: 0.27931859607860576 move_type split\n",
      "Iteration 29 Objective: 0.2488516448015648 move_type split\n",
      "Iteration 30 Objective: 0.2234214702997324 move_type split\n",
      "Iteration 31 Objective: 0.20222845361131211 move_type split\n",
      "Iteration 32 Objective: 0.1821555945814801 move_type split\n",
      "Iteration 33 Objective: 0.16337942625900148 move_type split\n",
      "Iteration 34 Objective: 0.14782554086374747 move_type split\n",
      "Iteration 35 Objective: 0.13526638849332656 move_type split\n",
      "Iteration 36 Objective: 0.12330731898239106 move_type split\n",
      "Iteration 37 Objective: 0.11224932403681631 move_type split\n",
      "Iteration 38 Objective: 0.1025364839618452 move_type split\n",
      "Iteration 39 Objective: 0.09330918911003261 move_type split\n",
      "Iteration 40 Objective: 0.08638418941883921 move_type split\n",
      "Iteration 41 Objective: 0.08064977870375846 move_type split\n",
      "Iteration 42 Objective: 0.07577786946745145 move_type split\n",
      "Iteration 43 Objective: 0.07096573696825374 move_type split\n",
      "Iteration 44 Objective: 0.06622976305206393 move_type split\n",
      "Iteration 45 Objective: 0.06214185869711879 move_type split\n",
      "Iteration 46 Objective: 0.05821686603802708 move_type split\n",
      "Iteration 47 Objective: 0.05434843715273962 move_type split\n",
      "Iteration 48 Objective: 0.05082702400521311 move_type split\n",
      "Iteration 49 Objective: 0.047450270893280994 move_type split\n",
      "Iteration 50 Objective: 0.04434443697259649 move_type split\n",
      "Iteration 51 Objective: 0.04156667092906181 move_type split\n",
      "Iteration 52 Objective: 0.038904675858552326 move_type split\n",
      "Iteration 53 Objective: 0.03640432758122167 move_type split\n",
      "Iteration 54 Objective: 0.0340144915951594 move_type split\n",
      "Iteration 55 Objective: 0.03176148469141198 move_type split\n",
      "Iteration 56 Objective: 0.02975880502357546 move_type split\n",
      "Iteration 57 Objective: 0.028031160390850438 move_type split\n",
      "Iteration 58 Objective: 0.026474049930233178 move_type split\n",
      "Iteration 59 Objective: 0.024926622036238882 move_type split\n",
      "Iteration 60 Objective: 0.023458010521760213 move_type split\n",
      "Iteration 61 Objective: 0.022204378592784714 move_type split\n",
      "Iteration 62 Objective: 0.021026789199370417 move_type split\n",
      "Iteration 63 Objective: 0.019906883898824085 move_type split\n",
      "Iteration 64 Objective: 0.018859864077325393 move_type split\n",
      "Iteration 65 Objective: 0.01787734153077365 move_type split\n",
      "Iteration 66 Objective: 0.016901381681228168 move_type split\n",
      "Iteration 67 Objective: 0.016023644208395967 move_type split\n",
      "Iteration 68 Objective: 0.015199532518030561 move_type split\n",
      "Iteration 69 Objective: 0.014393104911034979 move_type split\n",
      "Iteration 70 Objective: 0.013588165262233028 move_type split\n",
      "Iteration 71 Objective: 0.012851288726557011 move_type split\n",
      "Iteration 72 Objective: 0.01217531333593405 move_type split\n",
      "Iteration 73 Objective: 0.011605628457242995 move_type split\n",
      "Iteration 74 Objective: 0.011057663597077223 move_type split\n",
      "Iteration 75 Objective: 0.010510219731076926 move_type split\n",
      "Iteration 76 Objective: 0.010092810213148427 move_type split\n",
      "Iteration 77 Objective: 0.009682248911652768 move_type split\n",
      "Iteration 78 Objective: 0.009274157994441782 move_type split\n",
      "Iteration 79 Objective: 0.008871554469601235 move_type split\n",
      "Iteration 80 Objective: 0.008484957113218294 move_type split\n",
      "Iteration 81 Objective: 0.00815576400189527 move_type split\n",
      "Iteration 82 Objective: 0.00785134884597797 move_type split\n",
      "Iteration 83 Objective: 0.007555829681030609 move_type split\n",
      "Iteration 84 Objective: 0.007273204517687107 move_type split\n",
      "Iteration 85 Objective: 0.006996276031234285 move_type split\n",
      "Iteration 86 Objective: 0.006736015573590928 move_type split\n",
      "Iteration 87 Objective: 0.006485940404333322 move_type split\n",
      "Iteration 88 Objective: 0.006241641616312559 move_type split\n",
      "Iteration 89 Objective: 0.005997859438879034 move_type split\n",
      "Iteration 90 Objective: 0.0057598706334934325 move_type split\n",
      "Iteration 91 Objective: 0.005534499509501732 move_type split\n",
      "Iteration 92 Objective: 0.0053109172033167585 move_type split\n",
      "Iteration 93 Objective: 0.005097827911490403 move_type split\n",
      "Iteration 94 Objective: 0.004886491334307553 move_type split\n",
      "Iteration 95 Objective: 0.004685662882468736 move_type split\n",
      "Iteration 96 Objective: 0.00450655919285032 move_type split\n",
      "Iteration 97 Objective: 0.004329657775439622 move_type split\n",
      "Iteration 98 Objective: 0.004166718058469595 move_type split\n",
      "Iteration 99 Objective: 0.004008996089989096 move_type split\n",
      "Iteration 100 Objective: 0.0038537946507244377 move_type split\n",
      "Iteration 101 Objective: 0.00371290445181619 move_type split\n",
      "Iteration 102 Objective: 0.0035806545050433834 move_type split\n",
      "Iteration 103 Objective: 0.0034560142536636737 move_type split\n",
      "Iteration 104 Objective: 0.0033346599418118345 move_type split\n",
      "Iteration 105 Objective: 0.0032137852192194085 move_type split\n",
      "Iteration 106 Objective: 0.0030953887924600044 move_type split\n",
      "Iteration 107 Objective: 0.0029820024233328094 move_type split\n",
      "Iteration 108 Objective: 0.0028726139991083633 move_type split\n",
      "Iteration 109 Objective: 0.002764839201330547 move_type split\n",
      "Iteration 110 Objective: 0.0026634505711780393 move_type split\n",
      "Iteration 111 Objective: 0.002564635256271824 move_type split\n",
      "Iteration 112 Objective: 0.0024867972426341803 move_type split\n",
      "Iteration 113 Objective: 0.0024118677148579357 move_type split\n",
      "Iteration 114 Objective: 0.002337724225335907 move_type split\n",
      "Iteration 115 Objective: 0.0022640040406572077 move_type split\n",
      "Iteration 116 Objective: 0.002191381667657762 move_type split\n",
      "Iteration 117 Objective: 0.0021210914837504263 move_type split\n",
      "Iteration 118 Objective: 0.0020530845291378873 move_type split\n",
      "Iteration 119 Objective: 0.0019908560323540995 move_type split\n",
      "Iteration 120 Objective: 0.0019357513243304862 move_type split\n",
      "Iteration 121 Objective: 0.0018815706236648317 move_type split\n",
      "Iteration 122 Objective: 0.0018277121955541699 move_type split\n",
      "Iteration 123 Objective: 0.001778418369590261 move_type split\n",
      "Iteration 124 Objective: 0.0017310050353824635 move_type split\n",
      "Iteration 125 Objective: 0.0016859379817255496 move_type split\n",
      "Iteration 126 Objective: 0.0016413987463539637 move_type split\n",
      "Iteration 127 Objective: 0.0015975873531337854 move_type split\n",
      "Iteration 128 Objective: 0.0015555863583325005 move_type split\n",
      "Iteration 129 Objective: 0.0015139780029119426 move_type split\n",
      "Iteration 130 Objective: 0.0014735991533637825 move_type split\n",
      "Iteration 131 Objective: 0.0014341862935277185 move_type split\n",
      "Iteration 132 Objective: 0.001396804183073764 move_type split\n",
      "Iteration 133 Objective: 0.0013604148996687296 move_type split\n",
      "Iteration 134 Objective: 0.0013263374941157213 move_type split\n",
      "Iteration 135 Objective: 0.0012930748244064096 move_type split\n",
      "Iteration 136 Objective: 0.0012599556664431447 move_type split\n",
      "Iteration 137 Objective: 0.0012349481695610482 move_type split\n",
      "Iteration 138 Objective: 0.0012099483943536701 move_type split\n",
      "Iteration 139 Objective: 0.0011852379037198255 move_type split\n",
      "Iteration 140 Objective: 0.0011606671182289518 move_type split\n",
      "Iteration 141 Objective: 0.0011365502087903104 move_type split\n",
      "Iteration 142 Objective: 0.0011124529094500278 move_type split\n",
      "Iteration 143 Objective: 0.001088515536503995 move_type split\n",
      "Iteration 144 Objective: 0.001065071699452443 move_type split\n",
      "Iteration 145 Objective: 0.0010420142444947376 move_type split\n",
      "Iteration 146 Objective: 0.0010191777516440944 move_type split\n",
      "Iteration 147 Objective: 0.0009972492008363052 move_type split\n",
      "Iteration 148 Objective: 0.0009760830806618177 move_type split\n",
      "Iteration 149 Objective: 0.0009550277706819088 move_type split\n",
      "Iteration 150 Objective: 0.0009348893442401208 move_type split\n",
      "Iteration 151 Objective: 0.0009148761875676612 move_type split\n",
      "Iteration 152 Objective: 0.0008950703433138565 move_type split\n",
      "Iteration 153 Objective: 0.000875505185459132 move_type split\n",
      "Iteration 154 Objective: 0.0008564681621697548 move_type split\n",
      "Iteration 155 Objective: 0.0008387597086528722 move_type split\n",
      "Iteration 156 Objective: 0.0008211158628833077 move_type split\n",
      "Iteration 157 Objective: 0.0008035487897392642 move_type split\n",
      "Iteration 158 Objective: 0.0007859886027625512 move_type split\n",
      "Iteration 159 Objective: 0.0007696031512354699 move_type split\n",
      "Iteration 160 Objective: 0.0007534404414834522 move_type split\n",
      "Iteration 161 Objective: 0.0007372919154040933 move_type split\n",
      "Iteration 162 Objective: 0.0007213465939749145 move_type split\n",
      "Iteration 163 Objective: 0.0007063742701768578 move_type split\n",
      "Iteration 164 Objective: 0.0006922234009785234 move_type split\n",
      "Iteration 165 Objective: 0.0006782870404389595 move_type split\n",
      "Iteration 166 Objective: 0.0006656529719210967 move_type split\n",
      "Iteration 167 Objective: 0.0006534287395283114 move_type split\n",
      "Iteration 168 Objective: 0.000642033298599686 move_type split\n",
      "Iteration 169 Objective: 0.0006307280791818506 move_type split\n",
      "Iteration 170 Objective: 0.0006197337433518871 move_type split\n",
      "Iteration 171 Objective: 0.0006093421657057905 move_type split\n",
      "Iteration 172 Objective: 0.0005993600505145393 move_type split\n",
      "Iteration 173 Objective: 0.0005895853683382477 move_type split\n",
      "Iteration 174 Objective: 0.0005800404800466893 move_type split\n",
      "Iteration 175 Objective: 0.0005708786468977412 move_type split\n",
      "Iteration 176 Objective: 0.0005618654841091908 move_type split\n",
      "Iteration 177 Objective: 0.0005537686594906927 move_type split\n",
      "Iteration 178 Objective: 0.0005461567641150621 move_type split\n",
      "Iteration 179 Objective: 0.000538623839902461 move_type split\n",
      "Iteration 180 Objective: 0.000531559652278984 move_type split\n",
      "Iteration 181 Objective: 0.0005250130229032228 move_type split\n",
      "Iteration 182 Objective: 0.0005186344223438229 move_type split\n",
      "Iteration 183 Objective: 0.0005124449307779905 move_type split\n",
      "Iteration 184 Objective: 0.0005065621109276025 move_type split\n",
      "Iteration 185 Objective: 0.000500828422087655 move_type split\n",
      "Iteration 186 Objective: 0.0004953451745405694 move_type split\n",
      "Iteration 187 Objective: 0.0004899327766163373 move_type split\n",
      "Iteration 188 Objective: 0.0004845952531299192 move_type split\n",
      "Iteration 189 Objective: 0.00047933090196303993 move_type split\n",
      "Iteration 190 Objective: 0.0004741694553903684 move_type split\n",
      "Iteration 191 Objective: 0.0004690540289698018 move_type split\n",
      "Iteration 192 Objective: 0.0004642464236651488 move_type split\n",
      "Iteration 193 Objective: 0.00045982367311071126 move_type split\n",
      "Iteration 194 Objective: 0.000455438902530934 move_type split\n",
      "Iteration 195 Objective: 0.00045107097097050113 move_type split\n",
      "Iteration 196 Objective: 0.00044674961009034763 move_type split\n",
      "Iteration 197 Objective: 0.00044249540864825873 move_type split\n",
      "Iteration 198 Objective: 0.0004384329778209422 move_type split\n",
      "Iteration 199 Objective: 0.00043448596458346423 move_type split\n",
      "Iteration 200 Objective: 0.00043102270944453007 move_type split\n",
      "Iteration 201 Objective: 0.0004278033438547272 move_type split\n",
      "Iteration 202 Objective: 0.0004246266195127487 move_type split\n",
      "Iteration 203 Objective: 0.00042157722532800253 move_type split\n",
      "Iteration 204 Objective: 0.000418684985566676 move_type split\n",
      "Iteration 205 Objective: 0.0004158956350706969 move_type split\n",
      "Iteration 206 Objective: 0.0004131141690311213 move_type split\n",
      "Iteration 207 Objective: 0.00041047422511548195 move_type split\n",
      "Iteration 208 Objective: 0.0004079314384865315 move_type split\n",
      "Iteration 209 Objective: 0.0004054828781494876 move_type split\n",
      "Iteration 210 Objective: 0.0004030431204950552 move_type split\n",
      "Iteration 211 Objective: 0.0004006366038763938 move_type split\n",
      "Iteration 212 Objective: 0.00039831801113548277 move_type split\n",
      "Iteration 213 Objective: 0.0003960996376641053 move_type split\n",
      "Iteration 214 Objective: 0.00039388743572944476 move_type split\n",
      "Iteration 215 Objective: 0.00039170850458012513 move_type split\n",
      "Iteration 216 Objective: 0.0003895781776282948 move_type split\n",
      "Iteration 217 Objective: 0.0003875919931215188 move_type split\n",
      "Iteration 218 Objective: 0.00038569117407344665 move_type split\n",
      "Iteration 219 Objective: 0.0003838504162274968 move_type split\n",
      "Iteration 220 Objective: 0.0003822037090705563 move_type split\n",
      "Iteration 221 Objective: 0.0003805708061454122 move_type split\n",
      "Iteration 222 Objective: 0.00037896139064883693 move_type split\n",
      "Iteration 223 Objective: 0.0003774482807217747 move_type split\n",
      "Iteration 224 Objective: 0.00037599196624311384 move_type split\n",
      "Iteration 225 Objective: 0.0003746604301817397 move_type split\n",
      "Iteration 226 Objective: 0.0003733472581341712 move_type split\n",
      "Iteration 227 Objective: 0.00037211531139228745 move_type split\n",
      "Iteration 228 Objective: 0.00037088915319108656 move_type split\n",
      "Iteration 229 Objective: 0.0003698621269218204 move_type split\n",
      "Iteration 230 Objective: 0.0003688859998481562 move_type split\n",
      "Iteration 231 Objective: 0.00036793444411819376 move_type split\n",
      "Iteration 232 Objective: 0.00036707125346870746 move_type split\n",
      "Iteration 233 Objective: 0.0003662167675254531 move_type split\n",
      "Iteration 234 Objective: 0.00036536609471961735 move_type split\n",
      "Iteration 235 Objective: 0.0003645545179255429 move_type split\n",
      "Iteration 236 Objective: 0.000363757766434036 move_type split\n",
      "Iteration 237 Objective: 0.0003630018097500857 move_type split\n",
      "Iteration 238 Objective: 0.0003622505156222544 move_type split\n",
      "Iteration 239 Objective: 0.0003615629652944433 move_type split\n",
      "Iteration 240 Objective: 0.0003609136843914274 move_type split\n",
      "Iteration 241 Objective: 0.0003602908223547632 move_type split\n",
      "Iteration 242 Objective: 0.00035968386666622025 move_type split\n",
      "Iteration 243 Objective: 0.00035911750134973164 move_type split\n",
      "Iteration 244 Objective: 0.000358587587376459 move_type split\n",
      "Iteration 245 Objective: 0.00035806349533722424 move_type split\n",
      "Iteration 246 Objective: 0.00035755995428427017 move_type split\n",
      "Iteration 247 Objective: 0.00035712272429066095 move_type split\n",
      "Iteration 248 Objective: 0.00035674755822185246 move_type split\n",
      "Iteration 249 Objective: 0.000356422119206625 move_type split\n",
      "Iteration 250 Objective: 0.00035614289989187916 move_type split\n",
      "Iteration 251 Objective: 0.000355886844031516 move_type split\n",
      "Iteration 252 Objective: 0.0003556402932986302 move_type split\n",
      "Iteration 253 Objective: 0.0003554152243477838 move_type split\n",
      "Iteration 254 Objective: 0.0003551919399740289 move_type split\n",
      "Iteration 255 Objective: 0.0003550010035115493 move_type split\n",
      "Iteration 256 Objective: 0.00035482908398535006 move_type split\n",
      "Iteration 257 Objective: 0.0003546738601968056 move_type merge-split\n",
      "Iteration 258 Objective: 0.00035452020952479323 move_type split\n",
      "Iteration 259 Objective: 0.00035437145536239696 move_type split\n",
      "Iteration 260 Objective: 0.00035423414841450175 move_type split\n",
      "Iteration 261 Objective: 0.0003540977042307224 move_type split\n",
      "Iteration 262 Objective: 0.0003539736465965919 move_type merge-split\n",
      "Iteration 263 Objective: 0.0003538543606869975 move_type split\n",
      "Iteration 264 Objective: 0.0003537480621436966 move_type split\n",
      "Iteration 265 Objective: 0.00035365585507252345 move_type split\n",
      "Iteration 266 Objective: 0.0003535729931392086 move_type split\n",
      "Iteration 267 Objective: 0.0003535048946663662 move_type split\n",
      "Iteration 268 Objective: 0.00035345156256906714 move_type split\n",
      "Iteration 269 Objective: 0.0003534023550244308 move_type split\n",
      "Iteration 270 Objective: 0.0003533685451683274 move_type split\n",
      "Iteration 271 Objective: 0.00035333907069124614 move_type split\n",
      "Iteration 272 Objective: 0.00035331861256002444 move_type split\n",
      "Iteration 273 Objective: 0.0003532999606528803 move_type split\n",
      "Iteration 274 Objective: 0.0003532818003678451 move_type split\n",
      "Iteration 275 Objective: 0.00035326901490500374 move_type split\n",
      "Iteration 276 Objective: 0.0003532563569507634 move_type split\n",
      "Iteration 277 Objective: 0.0003532442004329201 move_type split\n",
      "Iteration 278 Objective: 0.00035323239565532023 move_type split\n",
      "Done w=3.059023205018258e-07\n"
     ]
    }
   ],
   "source": [
    "from greedy_algo_fast import greedy_search\n",
    "import scipy.sparse as sp\n",
    "\n",
    "def get_edge_vector_from_adj_matrix(adj_matrix):\n",
    "    sparse_matrix = sp.csr_matrix(adj_matrix)\n",
    "    row_indices, col_indices = sparse_matrix.nonzero()\n",
    "    edge_vector = np.vstack((row_indices, col_indices)).T\n",
    "    return edge_vector\n",
    "\n",
    "edges = get_edge_vector_from_adj_matrix(A_G)\n",
    "\n",
    "for w in np.exp(-np.linspace(0,15,30)):\n",
    "    clusters, _ = greedy_search(katz_centrality, edges, np.array([0]*len(katz_centrality)), w=w, max_interaction_dist=5)\n",
    "    print(f\"Done w={w}\")\n",
    "    df.loc[len(df)] = evaluate_cluster_assignment(katz_centrality, A_G, clusters) + [f\"Greedy Search (w={w})\"]"
   ]
  },
  {
   "cell_type": "code",
   "execution_count": 20,
   "metadata": {},
   "outputs": [],
   "source": [
    "df[\"is_pareto_front\"] = is_pareto_front(df[['ell_sqr', 'expected_edge_overlap']].values)"
   ]
  },
  {
   "cell_type": "code",
   "execution_count": 21,
   "metadata": {},
   "outputs": [
    {
     "data": {
      "application/vnd.plotly.v1+json": {
       "config": {
        "plotlyServerURL": "https://plot.ly"
       },
       "data": [
        {
         "customdata": [
          [
           "Kmeans1d (k=1) on Katz centrality"
          ],
          [
           "Kmeans1d (k=7) on Katz centrality"
          ],
          [
           "Kmeans1d (k=23) on Katz centrality"
          ],
          [
           "Kmeans1d (k=29) on Katz centrality"
          ],
          [
           "Kmeans1d (k=31) on Katz centrality"
          ],
          [
           "Kmeans1d (k=33) on Katz centrality"
          ],
          [
           "Kmeans1d (k=55) on Katz centrality"
          ],
          [
           "Kmeans1d (k=57) on Katz centrality"
          ],
          [
           "Kmeans1d (k=67) on Katz centrality"
          ],
          [
           "Kmeans1d (k=75) on Katz centrality"
          ],
          [
           "Kmeans1d (k=77) on Katz centrality"
          ],
          [
           "Kmeans1d (k=83) on Katz centrality"
          ],
          [
           "Kmeans1d (k=85) on Katz centrality"
          ],
          [
           "Kmeans1d (k=97) on Katz centrality"
          ],
          [
           "Kmeans1d (k=99) on Katz centrality"
          ],
          [
           "Kmeans1d (k=101) on Katz centrality"
          ],
          [
           "Kmeans1d (k=121) on Katz centrality"
          ],
          [
           "Kmeans1d (k=151) on Katz centrality"
          ],
          [
           "Kmeans1d (k=153) on Katz centrality"
          ],
          [
           "Kmeans1d (k=155) on Katz centrality"
          ],
          [
           "Kmeans1d (k=157) on Katz centrality"
          ],
          [
           "Kmeans1d (k=159) on Katz centrality"
          ],
          [
           "Kmeans1d (k=171) on Katz centrality"
          ],
          [
           "Kmeans1d (k=209) on Katz centrality"
          ],
          [
           "Kmeans1d (k=235) on Katz centrality"
          ],
          [
           "Kmeans1d (k=237) on Katz centrality"
          ],
          [
           "Kmeans1d (k=239) on Katz centrality"
          ],
          [
           "Kmeans1d (k=241) on Katz centrality"
          ],
          [
           "Kmeans1d (k=243) on Katz centrality"
          ],
          [
           "Kmeans1d (k=245) on Katz centrality"
          ],
          [
           "Kmeans1d (k=271) on Katz centrality"
          ],
          [
           "Kmeans1d (k=287) on Katz centrality"
          ],
          [
           "Kmeans1d (k=289) on Katz centrality"
          ],
          [
           "Kmeans1d (k=291) on Katz centrality"
          ]
         ],
         "hovertemplate": "method_type_name=Kmeans<br>shape=circle-open<br>ell_sqr=%{x}<br>expected_edge_overlap=%{y}<br>method_type=%{customdata[0]}<extra></extra>",
         "legendgroup": "Kmeans, circle-open",
         "marker": {
          "color": "#636efa",
          "line": {
           "width": 2
          },
          "size": 10,
          "symbol": "circle-open"
         },
         "mode": "markers",
         "name": "Kmeans, circle-open",
         "orientation": "v",
         "showlegend": true,
         "type": "scatter",
         "x": [
          442.64342165259427,
          11.916035764951644,
          0.49536034620531666,
          0.25576238725376754,
          0.20315404374834145,
          0.16826122360534157,
          0.03226482472281589,
          0.028231011182256793,
          0.015477603134414153,
          0.010064473719594957,
          0.009127505726283403,
          0.00688226614069265,
          0.006292642262010872,
          0.0038923013971867704,
          0.003605444243262923,
          0.0033299934598431946,
          0.001629735864710824,
          0.0006453295263355585,
          0.0006040186558067262,
          0.000564400969508938,
          0.0005280777017588889,
          0.0004946268956729227,
          0.000329491592609088,
          0.0000945393337161704,
          0.00003724529933890608,
          0.000034669598974801374,
          0.0000322817461011482,
          0.000029983397510591203,
          0.000027757318278531784,
          0.0000256614791425136,
          0.000008813130605744846,
          0.000004511657110128908,
          0.000004102931555394207,
          0.0000037332690254743284
         ],
         "xaxis": "x",
         "y": [
          19.829519450800916,
          218.75921548677465,
          335.73751363672693,
          391.72357930374335,
          402.17236208478624,
          407.7940376340946,
          524.7973183683118,
          535.349300699706,
          571.5634031866732,
          605.2776734655057,
          610.1573895827219,
          630.0594302745801,
          640.2867030018529,
          677.3886782720372,
          685.9720116053704,
          688.0083211291801,
          751.6857656051629,
          851.6055735749709,
          855.6516053210026,
          861.6516053210026,
          869.4016053210026,
          877.0182719876693,
          911.5095418289392,
          1008.8066086952879,
          1078.8879939766732,
          1082.3760892147684,
          1085.3760892147684,
          1086.9760892147683,
          1088.2427558814352,
          1092.0760892147684,
          1158.2992754600477,
          1188.062169800849,
          1188.8455031341823,
          1191.1121698008492
         ],
         "yaxis": "y"
        },
        {
         "customdata": [
          [
           "Kmeans1d (k=3) on Katz centrality"
          ],
          [
           "Kmeans1d (k=5) on Katz centrality"
          ],
          [
           "Kmeans1d (k=9) on Katz centrality"
          ],
          [
           "Kmeans1d (k=11) on Katz centrality"
          ],
          [
           "Kmeans1d (k=13) on Katz centrality"
          ],
          [
           "Kmeans1d (k=15) on Katz centrality"
          ],
          [
           "Kmeans1d (k=17) on Katz centrality"
          ],
          [
           "Kmeans1d (k=19) on Katz centrality"
          ],
          [
           "Kmeans1d (k=21) on Katz centrality"
          ],
          [
           "Kmeans1d (k=25) on Katz centrality"
          ],
          [
           "Kmeans1d (k=27) on Katz centrality"
          ],
          [
           "Kmeans1d (k=35) on Katz centrality"
          ],
          [
           "Kmeans1d (k=37) on Katz centrality"
          ],
          [
           "Kmeans1d (k=39) on Katz centrality"
          ],
          [
           "Kmeans1d (k=41) on Katz centrality"
          ],
          [
           "Kmeans1d (k=43) on Katz centrality"
          ],
          [
           "Kmeans1d (k=45) on Katz centrality"
          ],
          [
           "Kmeans1d (k=47) on Katz centrality"
          ],
          [
           "Kmeans1d (k=49) on Katz centrality"
          ],
          [
           "Kmeans1d (k=51) on Katz centrality"
          ],
          [
           "Kmeans1d (k=53) on Katz centrality"
          ],
          [
           "Kmeans1d (k=59) on Katz centrality"
          ],
          [
           "Kmeans1d (k=61) on Katz centrality"
          ],
          [
           "Kmeans1d (k=63) on Katz centrality"
          ],
          [
           "Kmeans1d (k=65) on Katz centrality"
          ],
          [
           "Kmeans1d (k=69) on Katz centrality"
          ],
          [
           "Kmeans1d (k=71) on Katz centrality"
          ],
          [
           "Kmeans1d (k=73) on Katz centrality"
          ],
          [
           "Kmeans1d (k=79) on Katz centrality"
          ],
          [
           "Kmeans1d (k=81) on Katz centrality"
          ],
          [
           "Kmeans1d (k=87) on Katz centrality"
          ],
          [
           "Kmeans1d (k=89) on Katz centrality"
          ],
          [
           "Kmeans1d (k=91) on Katz centrality"
          ],
          [
           "Kmeans1d (k=93) on Katz centrality"
          ],
          [
           "Kmeans1d (k=95) on Katz centrality"
          ],
          [
           "Kmeans1d (k=103) on Katz centrality"
          ],
          [
           "Kmeans1d (k=105) on Katz centrality"
          ],
          [
           "Kmeans1d (k=107) on Katz centrality"
          ],
          [
           "Kmeans1d (k=109) on Katz centrality"
          ],
          [
           "Kmeans1d (k=111) on Katz centrality"
          ],
          [
           "Kmeans1d (k=113) on Katz centrality"
          ],
          [
           "Kmeans1d (k=115) on Katz centrality"
          ],
          [
           "Kmeans1d (k=117) on Katz centrality"
          ],
          [
           "Kmeans1d (k=119) on Katz centrality"
          ],
          [
           "Kmeans1d (k=123) on Katz centrality"
          ],
          [
           "Kmeans1d (k=125) on Katz centrality"
          ],
          [
           "Kmeans1d (k=127) on Katz centrality"
          ],
          [
           "Kmeans1d (k=129) on Katz centrality"
          ],
          [
           "Kmeans1d (k=131) on Katz centrality"
          ],
          [
           "Kmeans1d (k=133) on Katz centrality"
          ],
          [
           "Kmeans1d (k=135) on Katz centrality"
          ],
          [
           "Kmeans1d (k=137) on Katz centrality"
          ],
          [
           "Kmeans1d (k=139) on Katz centrality"
          ],
          [
           "Kmeans1d (k=141) on Katz centrality"
          ],
          [
           "Kmeans1d (k=143) on Katz centrality"
          ],
          [
           "Kmeans1d (k=145) on Katz centrality"
          ],
          [
           "Kmeans1d (k=147) on Katz centrality"
          ],
          [
           "Kmeans1d (k=149) on Katz centrality"
          ],
          [
           "Kmeans1d (k=161) on Katz centrality"
          ],
          [
           "Kmeans1d (k=163) on Katz centrality"
          ],
          [
           "Kmeans1d (k=165) on Katz centrality"
          ],
          [
           "Kmeans1d (k=167) on Katz centrality"
          ],
          [
           "Kmeans1d (k=169) on Katz centrality"
          ],
          [
           "Kmeans1d (k=173) on Katz centrality"
          ],
          [
           "Kmeans1d (k=175) on Katz centrality"
          ],
          [
           "Kmeans1d (k=177) on Katz centrality"
          ],
          [
           "Kmeans1d (k=179) on Katz centrality"
          ],
          [
           "Kmeans1d (k=181) on Katz centrality"
          ],
          [
           "Kmeans1d (k=183) on Katz centrality"
          ],
          [
           "Kmeans1d (k=185) on Katz centrality"
          ],
          [
           "Kmeans1d (k=187) on Katz centrality"
          ],
          [
           "Kmeans1d (k=189) on Katz centrality"
          ],
          [
           "Kmeans1d (k=191) on Katz centrality"
          ],
          [
           "Kmeans1d (k=193) on Katz centrality"
          ],
          [
           "Kmeans1d (k=195) on Katz centrality"
          ],
          [
           "Kmeans1d (k=197) on Katz centrality"
          ],
          [
           "Kmeans1d (k=199) on Katz centrality"
          ],
          [
           "Kmeans1d (k=201) on Katz centrality"
          ],
          [
           "Kmeans1d (k=203) on Katz centrality"
          ],
          [
           "Kmeans1d (k=205) on Katz centrality"
          ],
          [
           "Kmeans1d (k=207) on Katz centrality"
          ],
          [
           "Kmeans1d (k=211) on Katz centrality"
          ],
          [
           "Kmeans1d (k=213) on Katz centrality"
          ],
          [
           "Kmeans1d (k=215) on Katz centrality"
          ],
          [
           "Kmeans1d (k=217) on Katz centrality"
          ],
          [
           "Kmeans1d (k=219) on Katz centrality"
          ],
          [
           "Kmeans1d (k=221) on Katz centrality"
          ],
          [
           "Kmeans1d (k=223) on Katz centrality"
          ],
          [
           "Kmeans1d (k=225) on Katz centrality"
          ],
          [
           "Kmeans1d (k=227) on Katz centrality"
          ],
          [
           "Kmeans1d (k=229) on Katz centrality"
          ],
          [
           "Kmeans1d (k=231) on Katz centrality"
          ],
          [
           "Kmeans1d (k=233) on Katz centrality"
          ],
          [
           "Kmeans1d (k=247) on Katz centrality"
          ],
          [
           "Kmeans1d (k=249) on Katz centrality"
          ],
          [
           "Kmeans1d (k=251) on Katz centrality"
          ],
          [
           "Kmeans1d (k=253) on Katz centrality"
          ],
          [
           "Kmeans1d (k=255) on Katz centrality"
          ],
          [
           "Kmeans1d (k=257) on Katz centrality"
          ],
          [
           "Kmeans1d (k=259) on Katz centrality"
          ],
          [
           "Kmeans1d (k=261) on Katz centrality"
          ],
          [
           "Kmeans1d (k=263) on Katz centrality"
          ],
          [
           "Kmeans1d (k=265) on Katz centrality"
          ],
          [
           "Kmeans1d (k=267) on Katz centrality"
          ],
          [
           "Kmeans1d (k=269) on Katz centrality"
          ],
          [
           "Kmeans1d (k=273) on Katz centrality"
          ],
          [
           "Kmeans1d (k=275) on Katz centrality"
          ],
          [
           "Kmeans1d (k=277) on Katz centrality"
          ],
          [
           "Kmeans1d (k=279) on Katz centrality"
          ],
          [
           "Kmeans1d (k=281) on Katz centrality"
          ],
          [
           "Kmeans1d (k=283) on Katz centrality"
          ],
          [
           "Kmeans1d (k=285) on Katz centrality"
          ],
          [
           "Kmeans1d (k=293) on Katz centrality"
          ],
          [
           "Kmeans1d (k=295) on Katz centrality"
          ],
          [
           "Kmeans1d (k=297) on Katz centrality"
          ],
          [
           "Kmeans1d (k=299) on Katz centrality"
          ]
         ],
         "hovertemplate": "method_type_name=Kmeans<br>shape=square-open<br>ell_sqr=%{x}<br>expected_edge_overlap=%{y}<br>method_type=%{customdata[0]}<extra></extra>",
         "legendgroup": "Kmeans, square-open",
         "marker": {
          "color": "#636efa",
          "line": {
           "width": 2
          },
          "size": 10,
          "symbol": "square-open"
         },
         "mode": "markers",
         "name": "Kmeans, square-open",
         "orientation": "v",
         "showlegend": true,
         "type": "scatter",
         "x": [
          63.32606304127938,
          24.938646204596225,
          5.811213713089913,
          3.6475226456468732,
          2.5000653014806886,
          1.6606286101613392,
          0.998048890643318,
          0.7804567825230748,
          0.6339555579906602,
          0.4012096533089249,
          0.3208500385238864,
          0.14072163843958663,
          0.11693313988281773,
          0.09620160010605616,
          0.08464084388971571,
          0.07455774548317606,
          0.06517232696252506,
          0.05680321270121169,
          0.04872819608341672,
          0.042021478130791934,
          0.037042677452646444,
          0.02496391537717102,
          0.02206684629619815,
          0.019622092048408035,
          0.01743355383452183,
          0.013816532428123196,
          0.0124006214786192,
          0.011138195768253922,
          0.008282424930385446,
          0.007555576763607519,
          0.005797392873446938,
          0.005333551671938608,
          0.004907290388942442,
          0.0045286119275402825,
          0.004193035598760275,
          0.0030730013110797927,
          0.0028478860997012134,
          0.0026512509869718315,
          0.002481431083040775,
          0.00231958919546571,
          0.002165460340236791,
          0.0020168467545573776,
          0.0018748787881150974,
          0.00174477539594875,
          0.0015249960071770374,
          0.001426212159870488,
          0.0013355765956504229,
          0.0012518223056332545,
          0.0011768395429072598,
          0.001104526881093193,
          0.0010378642884489864,
          0.0009757339143590116,
          0.0009239078239744458,
          0.0008729768454287523,
          0.0008231779131193662,
          0.0007746028940829319,
          0.0007299374373843648,
          0.0006873183339877187,
          0.0004638303309576486,
          0.00043336010612904374,
          0.00040427968811229675,
          0.0003774053205489736,
          0.000353062681668348,
          0.0003067899113631256,
          0.00028565331713537034,
          0.000266467178519747,
          0.0002497311841835881,
          0.0002344226243877756,
          0.00021977691024233081,
          0.00020618742583167204,
          0.00019330740322232032,
          0.00018068216918720736,
          0.00016882517282112985,
          0.00015823833548722632,
          0.00014822954251769715,
          0.00013864042269062793,
          0.00013008742037357024,
          0.0001220311954313047,
          0.00011478277458820685,
          0.00010764743122138043,
          0.00010079550663988357,
          0.00008855474739277724,
          0.00008271164251993923,
          0.00007740224982910604,
          0.000072244062451432,
          0.00006731118828895433,
          0.00006257888544780599,
          0.0000580234383988909,
          0.000053682509658870003,
          0.00004961808333803219,
          0.00004621261628301454,
          0.00004297933260488662,
          0.00004000759868461046,
          0.000023679949734400907,
          0.000021795979890271155,
          0.000020044858572987323,
          0.000018445903450015066,
          0.00001693867336882704,
          0.000015665457752334078,
          0.000014432942819553318,
          0.000013295701435822593,
          0.000012231555800212845,
          0.000011273717589688204,
          0.000010393780101480843,
          0.000009564026257180558,
          0.000008106254725248618,
          0.000007466610057349499,
          0.0000069056316789328775,
          0.000006352437779355569,
          0.000005834707238250303,
          0.0000053785633582492665,
          0.000004935615791623604,
          0.0000033890633659439118,
          0.0000030705994760182875,
          0.0000027981048589253987,
          0.000002546552494209209
         ],
         "xaxis": "x",
         "y": [
          152.80155936481643,
          203.90986094183242,
          238.32110407353375,
          243.5324125551223,
          259.79833750649266,
          282.4293465834419,
          294.0256506740029,
          299.25673084057007,
          314.7440324278717,
          360.7875136367269,
          377.3921451628355,
          422.5011804912375,
          439.324990015047,
          446.34868732773737,
          454.25651186712196,
          465.8992774348875,
          478.7593519485156,
          489.58169032565274,
          495.88935869011226,
          508.8322158329694,
          515.9606165080805,
          544.3564435568488,
          547.4024596273742,
          555.5220486168162,
          565.5768292343098,
          580.7451492184192,
          590.7451492184192,
          595.5783588911911,
          613.8954826472082,
          617.2677636079134,
          648.5867030018528,
          653.2590931117429,
          659.2590931117429,
          671.5575779602277,
          674.440998174357,
          700.6511782720372,
          703.916746037605,
          710.5000793709382,
          716.2214327158301,
          722.6443348137323,
          728.2693348137323,
          734.1592615536589,
          746.1592615536589,
          749.6546109754788,
          758.6024322718297,
          760.4563394757367,
          766.2003870947844,
          777.5051489995463,
          790.1520021463996,
          794.2972402416376,
          800.7555735749709,
          808.9722402416376,
          815.8889069083042,
          823.2222402416376,
          832.3889069083042,
          838.3055735749708,
          842.9722402416376,
          844.2722402416375,
          882.7682719876693,
          887.1293830987804,
          889.7650973844948,
          899.3762084956059,
          902.9095418289392,
          920.3428751622725,
          927.3428751622725,
          933.8606781925755,
          936.2665745358988,
          942.564193583518,
          946.0082412025656,
          960.1749078692322,
          971.1749078692322,
          975.3019550156342,
          978.9210026346818,
          979.9924312061105,
          982.2376693013485,
          987.9293359680152,
          989.0793359680151,
          993.8780372667165,
          999.0447039333832,
          1002.3542277429069,
          1007.5208944095737,
          1016.706608695288,
          1025.7208944095737,
          1033.2208944095737,
          1036.6375610762402,
          1044.3843143229935,
          1047.4676476563268,
          1054.1343143229935,
          1060.3009809896603,
          1063.2009809896601,
          1065.0343143229936,
          1069.7737082623876,
          1072.0046606433398,
          1107.5760892147684,
          1110.6594225481017,
          1113.8594225481017,
          1115.946100856873,
          1121.4461008568733,
          1126.4461008568733,
          1130.7794341902063,
          1138.5430705538429,
          1140.2930705538429,
          1149.8597372205095,
          1151.5516564124287,
          1154.7183230790954,
          1167.5492754600477,
          1173.882608793381,
          1176.021174684854,
          1180.021174684854,
          1183.021174684854,
          1186.0910159546952,
          1187.257682621362,
          1195.4455031341824,
          1197.4455031341824,
          1199.293793732473,
          1202.293793732473
         ],
         "yaxis": "y"
        },
        {
         "customdata": [
          [
           "Opt. Cont. Scal. (w=1.0)"
          ],
          [
           "Opt. Cont. Scal. (w=0.28898534244340446)"
          ],
          [
           "Opt. Cont. Scal. (w=0.08351252814713174)"
          ],
          [
           "Opt. Cont. Scal. (w=0.04489412783991955)"
          ],
          [
           "Opt. Cont. Scal. (w=0.024133896544913314)"
          ],
          [
           "Opt. Cont. Scal. (w=0.012973744907517126)"
          ],
          [
           "Opt. Cont. Scal. (w=0.006974342357525472)"
          ],
          [
           "Opt. Cont. Scal. (w=0.0037492221148722124)"
          ],
          [
           "Opt. Cont. Scal. (w=0.0020154827145070398)"
          ],
          [
           "Opt. Cont. Scal. (w=0.0010834702367627316)"
          ],
          [
           "Opt. Cont. Scal. (w=0.0005824449624405788)"
          ],
          [
           "Opt. Cont. Scal. (w=0.0003131070173981146)"
          ],
          [
           "Opt. Cont. Scal. (w=0.00016831805692532658)"
          ],
          [
           "Opt. Cont. Scal. (w=9.048333864422716e-05)"
          ],
          [
           "Opt. Cont. Scal. (w=4.864145131997396e-05)"
          ],
          [
           "Opt. Cont. Scal. (w=2.6148358603524477e-05)"
          ],
          [
           "Opt. Cont. Scal. (w=1.4056666466646865e-05)"
          ],
          [
           "Opt. Cont. Scal. (w=7.556492365372464e-06)"
          ],
          [
           "Opt. Cont. Scal. (w=4.0621705724766655e-06)"
          ],
          [
           "Opt. Cont. Scal. (w=2.1837155338781333e-06)"
          ],
          [
           "Opt. Cont. Scal. (w=1.1739077539506896e-06)"
          ],
          [
           "Opt. Cont. Scal. (w=6.310617813567543e-07)"
          ],
          [
           "Opt. Cont. Scal. (w=3.392421342724073e-07)"
          ],
          [
           "Opt. Cont. Scal. (w=1.8236760498832651e-07)"
          ],
          [
           "Opt. Cont. Scal. (w=9.803600434394323e-08)"
          ],
          [
           "Opt. Cont. Scal. (w=5.2701564778134974e-08)"
          ],
          [
           "Opt. Cont. Scal. (w=2.8330968287117475e-08)"
          ],
          [
           "Opt. Cont. Scal. (w=1.522997974471263e-08)"
          ]
         ],
         "hovertemplate": "method_type_name=Opt. Cont. Scal.<br>shape=circle-open<br>ell_sqr=%{x}<br>expected_edge_overlap=%{y}<br>method_type=%{customdata[0]}<extra></extra>",
         "legendgroup": "Opt. Cont. Scal., circle-open",
         "marker": {
          "color": "#EF553B",
          "line": {
           "width": 2
          },
          "size": 10,
          "symbol": "circle-open"
         },
         "mode": "markers",
         "name": "Opt. Cont. Scal., circle-open",
         "orientation": "v",
         "showlegend": true,
         "type": "scatter",
         "x": [
          34.534071392676765,
          19.662517906301446,
          2.5120844566258853,
          1.438203180834492,
          0.8618179425898944,
          0.6367867148190527,
          0.5759758336340184,
          0.2752449768844514,
          0.11844880950344816,
          0.07168450339737831,
          0.041753872832501315,
          0.02094497226097758,
          0.011944225621860483,
          0.006957616000946132,
          0.0041336918813073,
          0.0022145243230085043,
          0.0012335197680073406,
          0.0007378249217282473,
          0.00033050382155863645,
          0.00019226687898310502,
          0.00009507320574186906,
          0.000050967251198130725,
          0.00001615973742730148,
          0.000009081919714049036,
          0.000004580839075174481,
          0.0000021164427863595847,
          8.804000373174858e-7,
          3.584835468473102e-7
         ],
         "xaxis": "x",
         "y": [
          155.19381488515182,
          178.09137888536105,
          247.1419532890993,
          268.9204176169013,
          289.0488467186253,
          301.2039923279509,
          306.52325340140044,
          356.0793887548306,
          419.1265847414004,
          451.8820435861036,
          487.63724959549415,
          538.5688300589292,
          574.8132011828702,
          612.8304134408183,
          654.0693971394384,
          703.9909260190555,
          755.1779816668109,
          800.720874884704,
          877.9009888320593,
          922.1024961411754,
          981.0289391426184,
          1028.496124734804,
          1102.3810731197523,
          1129.328042816722,
          1161.8937937324731,
          1195.1271270658062,
          1226.5390318277111,
          1250.839031827711
         ],
         "yaxis": "y"
        },
        {
         "customdata": [
          [
           "Opt. Cont. Scal. (w=0.5375735693311237)"
          ],
          [
           "Opt. Cont. Scal. (w=0.155350882021678)"
          ]
         ],
         "hovertemplate": "method_type_name=Opt. Cont. Scal.<br>shape=square-open<br>ell_sqr=%{x}<br>expected_edge_overlap=%{y}<br>method_type=%{customdata[0]}<extra></extra>",
         "legendgroup": "Opt. Cont. Scal., square-open",
         "marker": {
          "color": "#EF553B",
          "line": {
           "width": 2
          },
          "size": 10,
          "symbol": "square-open"
         },
         "mode": "markers",
         "name": "Opt. Cont. Scal., square-open",
         "orientation": "v",
         "showlegend": true,
         "type": "scatter",
         "x": [
          22.526589518007995,
          3.4078450246022527
         ],
         "xaxis": "x",
         "y": [
          170.2149976327334,
          240.31300351118682
         ],
         "yaxis": "y"
        },
        {
         "customdata": [
          [
           "Greedy Search (w=0.01)"
          ],
          [
           "Greedy Search (w=0.01)"
          ],
          [
           "Greedy Search (w=0.01)"
          ],
          [
           "Greedy Search (w=0.01)"
          ],
          [
           "Greedy Search (w=0.01)"
          ],
          [
           "Greedy Search (w=1.0)"
          ],
          [
           "Greedy Search (w=0.5961628688829711)"
          ],
          [
           "Greedy Search (w=0.3554101662347746)"
          ],
          [
           "Greedy Search (w=0.2118823443326969)"
          ],
          [
           "Greedy Search (w=0.12631638626303013)"
          ],
          [
           "Greedy Search (w=0.07530513922149758)"
          ],
          [
           "Greedy Search (w=0.04489412783991953)"
          ],
          [
           "Greedy Search (w=0.026764212049045295)"
          ],
          [
           "Greedy Search (w=0.015955829438551027)"
          ],
          [
           "Greedy Search (w=0.009512273053493944)"
          ],
          [
           "Greedy Search (w=0.005670863993169133)"
          ],
          [
           "Greedy Search (w=0.0033807585472128508)"
          ],
          [
           "Greedy Search (w=0.002015482714507038)"
          ],
          [
           "Greedy Search (w=0.0012015559572645547)"
          ],
          [
           "Greedy Search (w=0.0007163230466062613)"
          ],
          [
           "Greedy Search (w=0.0004270452025117792)"
          ],
          [
           "Greedy Search (w=0.0002545884930721316)"
          ],
          [
           "Greedy Search (w=0.00015177620641447433)"
          ],
          [
           "Greedy Search (w=9.0483338644227e-05)"
          ],
          [
           "Greedy Search (w=5.3942806752251855e-05)"
          ],
          [
           "Greedy Search (w=3.215869842902216e-05)"
          ],
          [
           "Greedy Search (w=1.917182191498814e-05)"
          ],
          [
           "Greedy Search (w=1.1429528354552745e-05)"
          ],
          [
           "Greedy Search (w=6.813860413829426e-06)"
          ],
          [
           "Greedy Search (w=4.062170572476658e-06)"
          ],
          [
           "Greedy Search (w=2.421715262379669e-06)"
          ],
          [
           "Greedy Search (w=1.4437367184379402e-06)"
          ],
          [
           "Greedy Search (w=8.607022239756485e-07)"
          ],
          [
           "Greedy Search (w=5.13118707099276e-07)"
          ],
          [
           "Greedy Search (w=3.059023205018258e-07)"
          ]
         ],
         "hovertemplate": "method_type_name=Greedy Search<br>shape=circle-open<br>ell_sqr=%{x}<br>expected_edge_overlap=%{y}<br>method_type=%{customdata[0]}<extra></extra>",
         "legendgroup": "Greedy Search, circle-open",
         "marker": {
          "color": "#00cc96",
          "line": {
           "width": 2
          },
          "size": 10,
          "symbol": "circle-open"
         },
         "mode": "markers",
         "name": "Greedy Search, circle-open",
         "orientation": "v",
         "showlegend": true,
         "type": "scatter",
         "x": [
          0.6249525515168699,
          0.6249525515168699,
          0.6252801841136062,
          0.6252801841136062,
          0.6252801841136062,
          41.19088863143361,
          25.884512675903636,
          21.698268081120318,
          4.966559798536039,
          3.1733666436611117,
          2.5997724510101676,
          2.242394126633954,
          1.2864026580064802,
          0.7304045059967876,
          0.6166297761875086,
          0.3629635610636939,
          0.2754588926808452,
          0.13224993982932176,
          0.08754582606628958,
          0.049413358454572176,
          0.03356655189715241,
          0.016426415462902355,
          0.011097276763862851,
          0.006956074756672592,
          0.004552120854341979,
          0.002392153126166363,
          0.0017243342100670134,
          0.0010169888723368103,
          0.0006866798259608231,
          0.00033050382155863645,
          0.00021571649365625944,
          0.00010953461544715992,
          0.00006287473077293271,
          0.000038178537195676654,
          0.000012774089512390674
         ],
         "xaxis": "x",
         "y": [
          301.31839260598605,
          301.31839260598605,
          301.2576559529177,
          301.2576559529177,
          301.2576559529177,
          144.3857136131922,
          160.78174639577696,
          169.02575618790888,
          229.76540274021295,
          239.97834754407737,
          245.21375951765174,
          250.00031793238918,
          272.6930126465271,
          294.43705896673896,
          302.19006808652534,
          338.37334964171123,
          355.58437740718875,
          413.20521755460163,
          439.21826874263854,
          475.9271186838731,
          504.99966024116094,
          554.2633131019924,
          580.2682622463653,
          613.0881590448876,
          646.7654851888159,
          698.3161424692719,
          726.9263582901874,
          775.6427276487982,
          807.8105126415832,
          877.9009888320593,
          911.7611541498334,
          969.6194153330946,
          1012.1429501316293,
          1051.6006701893493,
          1112.9644064530858
         ],
         "yaxis": "y"
        }
       ],
       "layout": {
        "height": 800,
        "legend": {
         "font": {
          "size": 10
         },
         "itemsizing": "constant",
         "title": {
          "text": "Method Type"
         },
         "tracegroupgap": 0,
         "traceorder": "normal"
        },
        "margin": {
         "t": 60
        },
        "template": {
         "data": {
          "bar": [
           {
            "error_x": {
             "color": "#2a3f5f"
            },
            "error_y": {
             "color": "#2a3f5f"
            },
            "marker": {
             "line": {
              "color": "#E5ECF6",
              "width": 0.5
             },
             "pattern": {
              "fillmode": "overlay",
              "size": 10,
              "solidity": 0.2
             }
            },
            "type": "bar"
           }
          ],
          "barpolar": [
           {
            "marker": {
             "line": {
              "color": "#E5ECF6",
              "width": 0.5
             },
             "pattern": {
              "fillmode": "overlay",
              "size": 10,
              "solidity": 0.2
             }
            },
            "type": "barpolar"
           }
          ],
          "carpet": [
           {
            "aaxis": {
             "endlinecolor": "#2a3f5f",
             "gridcolor": "white",
             "linecolor": "white",
             "minorgridcolor": "white",
             "startlinecolor": "#2a3f5f"
            },
            "baxis": {
             "endlinecolor": "#2a3f5f",
             "gridcolor": "white",
             "linecolor": "white",
             "minorgridcolor": "white",
             "startlinecolor": "#2a3f5f"
            },
            "type": "carpet"
           }
          ],
          "choropleth": [
           {
            "colorbar": {
             "outlinewidth": 0,
             "ticks": ""
            },
            "type": "choropleth"
           }
          ],
          "contour": [
           {
            "colorbar": {
             "outlinewidth": 0,
             "ticks": ""
            },
            "colorscale": [
             [
              0,
              "#0d0887"
             ],
             [
              0.1111111111111111,
              "#46039f"
             ],
             [
              0.2222222222222222,
              "#7201a8"
             ],
             [
              0.3333333333333333,
              "#9c179e"
             ],
             [
              0.4444444444444444,
              "#bd3786"
             ],
             [
              0.5555555555555556,
              "#d8576b"
             ],
             [
              0.6666666666666666,
              "#ed7953"
             ],
             [
              0.7777777777777778,
              "#fb9f3a"
             ],
             [
              0.8888888888888888,
              "#fdca26"
             ],
             [
              1,
              "#f0f921"
             ]
            ],
            "type": "contour"
           }
          ],
          "contourcarpet": [
           {
            "colorbar": {
             "outlinewidth": 0,
             "ticks": ""
            },
            "type": "contourcarpet"
           }
          ],
          "heatmap": [
           {
            "colorbar": {
             "outlinewidth": 0,
             "ticks": ""
            },
            "colorscale": [
             [
              0,
              "#0d0887"
             ],
             [
              0.1111111111111111,
              "#46039f"
             ],
             [
              0.2222222222222222,
              "#7201a8"
             ],
             [
              0.3333333333333333,
              "#9c179e"
             ],
             [
              0.4444444444444444,
              "#bd3786"
             ],
             [
              0.5555555555555556,
              "#d8576b"
             ],
             [
              0.6666666666666666,
              "#ed7953"
             ],
             [
              0.7777777777777778,
              "#fb9f3a"
             ],
             [
              0.8888888888888888,
              "#fdca26"
             ],
             [
              1,
              "#f0f921"
             ]
            ],
            "type": "heatmap"
           }
          ],
          "heatmapgl": [
           {
            "colorbar": {
             "outlinewidth": 0,
             "ticks": ""
            },
            "colorscale": [
             [
              0,
              "#0d0887"
             ],
             [
              0.1111111111111111,
              "#46039f"
             ],
             [
              0.2222222222222222,
              "#7201a8"
             ],
             [
              0.3333333333333333,
              "#9c179e"
             ],
             [
              0.4444444444444444,
              "#bd3786"
             ],
             [
              0.5555555555555556,
              "#d8576b"
             ],
             [
              0.6666666666666666,
              "#ed7953"
             ],
             [
              0.7777777777777778,
              "#fb9f3a"
             ],
             [
              0.8888888888888888,
              "#fdca26"
             ],
             [
              1,
              "#f0f921"
             ]
            ],
            "type": "heatmapgl"
           }
          ],
          "histogram": [
           {
            "marker": {
             "pattern": {
              "fillmode": "overlay",
              "size": 10,
              "solidity": 0.2
             }
            },
            "type": "histogram"
           }
          ],
          "histogram2d": [
           {
            "colorbar": {
             "outlinewidth": 0,
             "ticks": ""
            },
            "colorscale": [
             [
              0,
              "#0d0887"
             ],
             [
              0.1111111111111111,
              "#46039f"
             ],
             [
              0.2222222222222222,
              "#7201a8"
             ],
             [
              0.3333333333333333,
              "#9c179e"
             ],
             [
              0.4444444444444444,
              "#bd3786"
             ],
             [
              0.5555555555555556,
              "#d8576b"
             ],
             [
              0.6666666666666666,
              "#ed7953"
             ],
             [
              0.7777777777777778,
              "#fb9f3a"
             ],
             [
              0.8888888888888888,
              "#fdca26"
             ],
             [
              1,
              "#f0f921"
             ]
            ],
            "type": "histogram2d"
           }
          ],
          "histogram2dcontour": [
           {
            "colorbar": {
             "outlinewidth": 0,
             "ticks": ""
            },
            "colorscale": [
             [
              0,
              "#0d0887"
             ],
             [
              0.1111111111111111,
              "#46039f"
             ],
             [
              0.2222222222222222,
              "#7201a8"
             ],
             [
              0.3333333333333333,
              "#9c179e"
             ],
             [
              0.4444444444444444,
              "#bd3786"
             ],
             [
              0.5555555555555556,
              "#d8576b"
             ],
             [
              0.6666666666666666,
              "#ed7953"
             ],
             [
              0.7777777777777778,
              "#fb9f3a"
             ],
             [
              0.8888888888888888,
              "#fdca26"
             ],
             [
              1,
              "#f0f921"
             ]
            ],
            "type": "histogram2dcontour"
           }
          ],
          "mesh3d": [
           {
            "colorbar": {
             "outlinewidth": 0,
             "ticks": ""
            },
            "type": "mesh3d"
           }
          ],
          "parcoords": [
           {
            "line": {
             "colorbar": {
              "outlinewidth": 0,
              "ticks": ""
             }
            },
            "type": "parcoords"
           }
          ],
          "pie": [
           {
            "automargin": true,
            "type": "pie"
           }
          ],
          "scatter": [
           {
            "fillpattern": {
             "fillmode": "overlay",
             "size": 10,
             "solidity": 0.2
            },
            "type": "scatter"
           }
          ],
          "scatter3d": [
           {
            "line": {
             "colorbar": {
              "outlinewidth": 0,
              "ticks": ""
             }
            },
            "marker": {
             "colorbar": {
              "outlinewidth": 0,
              "ticks": ""
             }
            },
            "type": "scatter3d"
           }
          ],
          "scattercarpet": [
           {
            "marker": {
             "colorbar": {
              "outlinewidth": 0,
              "ticks": ""
             }
            },
            "type": "scattercarpet"
           }
          ],
          "scattergeo": [
           {
            "marker": {
             "colorbar": {
              "outlinewidth": 0,
              "ticks": ""
             }
            },
            "type": "scattergeo"
           }
          ],
          "scattergl": [
           {
            "marker": {
             "colorbar": {
              "outlinewidth": 0,
              "ticks": ""
             }
            },
            "type": "scattergl"
           }
          ],
          "scattermapbox": [
           {
            "marker": {
             "colorbar": {
              "outlinewidth": 0,
              "ticks": ""
             }
            },
            "type": "scattermapbox"
           }
          ],
          "scatterpolar": [
           {
            "marker": {
             "colorbar": {
              "outlinewidth": 0,
              "ticks": ""
             }
            },
            "type": "scatterpolar"
           }
          ],
          "scatterpolargl": [
           {
            "marker": {
             "colorbar": {
              "outlinewidth": 0,
              "ticks": ""
             }
            },
            "type": "scatterpolargl"
           }
          ],
          "scatterternary": [
           {
            "marker": {
             "colorbar": {
              "outlinewidth": 0,
              "ticks": ""
             }
            },
            "type": "scatterternary"
           }
          ],
          "surface": [
           {
            "colorbar": {
             "outlinewidth": 0,
             "ticks": ""
            },
            "colorscale": [
             [
              0,
              "#0d0887"
             ],
             [
              0.1111111111111111,
              "#46039f"
             ],
             [
              0.2222222222222222,
              "#7201a8"
             ],
             [
              0.3333333333333333,
              "#9c179e"
             ],
             [
              0.4444444444444444,
              "#bd3786"
             ],
             [
              0.5555555555555556,
              "#d8576b"
             ],
             [
              0.6666666666666666,
              "#ed7953"
             ],
             [
              0.7777777777777778,
              "#fb9f3a"
             ],
             [
              0.8888888888888888,
              "#fdca26"
             ],
             [
              1,
              "#f0f921"
             ]
            ],
            "type": "surface"
           }
          ],
          "table": [
           {
            "cells": {
             "fill": {
              "color": "#EBF0F8"
             },
             "line": {
              "color": "white"
             }
            },
            "header": {
             "fill": {
              "color": "#C8D4E3"
             },
             "line": {
              "color": "white"
             }
            },
            "type": "table"
           }
          ]
         },
         "layout": {
          "annotationdefaults": {
           "arrowcolor": "#2a3f5f",
           "arrowhead": 0,
           "arrowwidth": 1
          },
          "autotypenumbers": "strict",
          "coloraxis": {
           "colorbar": {
            "outlinewidth": 0,
            "ticks": ""
           }
          },
          "colorscale": {
           "diverging": [
            [
             0,
             "#8e0152"
            ],
            [
             0.1,
             "#c51b7d"
            ],
            [
             0.2,
             "#de77ae"
            ],
            [
             0.3,
             "#f1b6da"
            ],
            [
             0.4,
             "#fde0ef"
            ],
            [
             0.5,
             "#f7f7f7"
            ],
            [
             0.6,
             "#e6f5d0"
            ],
            [
             0.7,
             "#b8e186"
            ],
            [
             0.8,
             "#7fbc41"
            ],
            [
             0.9,
             "#4d9221"
            ],
            [
             1,
             "#276419"
            ]
           ],
           "sequential": [
            [
             0,
             "#0d0887"
            ],
            [
             0.1111111111111111,
             "#46039f"
            ],
            [
             0.2222222222222222,
             "#7201a8"
            ],
            [
             0.3333333333333333,
             "#9c179e"
            ],
            [
             0.4444444444444444,
             "#bd3786"
            ],
            [
             0.5555555555555556,
             "#d8576b"
            ],
            [
             0.6666666666666666,
             "#ed7953"
            ],
            [
             0.7777777777777778,
             "#fb9f3a"
            ],
            [
             0.8888888888888888,
             "#fdca26"
            ],
            [
             1,
             "#f0f921"
            ]
           ],
           "sequentialminus": [
            [
             0,
             "#0d0887"
            ],
            [
             0.1111111111111111,
             "#46039f"
            ],
            [
             0.2222222222222222,
             "#7201a8"
            ],
            [
             0.3333333333333333,
             "#9c179e"
            ],
            [
             0.4444444444444444,
             "#bd3786"
            ],
            [
             0.5555555555555556,
             "#d8576b"
            ],
            [
             0.6666666666666666,
             "#ed7953"
            ],
            [
             0.7777777777777778,
             "#fb9f3a"
            ],
            [
             0.8888888888888888,
             "#fdca26"
            ],
            [
             1,
             "#f0f921"
            ]
           ]
          },
          "colorway": [
           "#636efa",
           "#EF553B",
           "#00cc96",
           "#ab63fa",
           "#FFA15A",
           "#19d3f3",
           "#FF6692",
           "#B6E880",
           "#FF97FF",
           "#FECB52"
          ],
          "font": {
           "color": "#2a3f5f"
          },
          "geo": {
           "bgcolor": "white",
           "lakecolor": "white",
           "landcolor": "#E5ECF6",
           "showlakes": true,
           "showland": true,
           "subunitcolor": "white"
          },
          "hoverlabel": {
           "align": "left"
          },
          "hovermode": "closest",
          "mapbox": {
           "style": "light"
          },
          "paper_bgcolor": "white",
          "plot_bgcolor": "#E5ECF6",
          "polar": {
           "angularaxis": {
            "gridcolor": "white",
            "linecolor": "white",
            "ticks": ""
           },
           "bgcolor": "#E5ECF6",
           "radialaxis": {
            "gridcolor": "white",
            "linecolor": "white",
            "ticks": ""
           }
          },
          "scene": {
           "xaxis": {
            "backgroundcolor": "#E5ECF6",
            "gridcolor": "white",
            "gridwidth": 2,
            "linecolor": "white",
            "showbackground": true,
            "ticks": "",
            "zerolinecolor": "white"
           },
           "yaxis": {
            "backgroundcolor": "#E5ECF6",
            "gridcolor": "white",
            "gridwidth": 2,
            "linecolor": "white",
            "showbackground": true,
            "ticks": "",
            "zerolinecolor": "white"
           },
           "zaxis": {
            "backgroundcolor": "#E5ECF6",
            "gridcolor": "white",
            "gridwidth": 2,
            "linecolor": "white",
            "showbackground": true,
            "ticks": "",
            "zerolinecolor": "white"
           }
          },
          "shapedefaults": {
           "line": {
            "color": "#2a3f5f"
           }
          },
          "ternary": {
           "aaxis": {
            "gridcolor": "white",
            "linecolor": "white",
            "ticks": ""
           },
           "baxis": {
            "gridcolor": "white",
            "linecolor": "white",
            "ticks": ""
           },
           "bgcolor": "#E5ECF6",
           "caxis": {
            "gridcolor": "white",
            "linecolor": "white",
            "ticks": ""
           }
          },
          "title": {
           "x": 0.05
          },
          "xaxis": {
           "automargin": true,
           "gridcolor": "white",
           "linecolor": "white",
           "ticks": "",
           "title": {
            "standoff": 15
           },
           "zerolinecolor": "white",
           "zerolinewidth": 2
          },
          "yaxis": {
           "automargin": true,
           "gridcolor": "white",
           "linecolor": "white",
           "ticks": "",
           "title": {
            "standoff": 15
           },
           "zerolinecolor": "white",
           "zerolinewidth": 2
          }
         }
        },
        "xaxis": {
         "anchor": "y",
         "domain": [
          0,
          1
         ],
         "title": {
          "text": "ell_sqr"
         },
         "type": "log"
        },
        "yaxis": {
         "anchor": "x",
         "domain": [
          0,
          1
         ],
         "title": {
          "text": "expected_edge_overlap"
         }
        }
       }
      }
     },
     "metadata": {},
     "output_type": "display_data"
    }
   ],
   "source": [
    "import pandas as pd\n",
    "import plotly.express as px\n",
    "\n",
    "def get_method_type_name(method_type):\n",
    "    if 'Kmeans' in method_type:\n",
    "        return 'Kmeans'\n",
    "    elif 'Greedy Search' in method_type:\n",
    "        return 'Greedy Search'\n",
    "    elif 'Opt. Cont. Scal.' in method_type:\n",
    "        return 'Opt. Cont. Scal.'\n",
    "    else:\n",
    "        return 'Other'\n",
    "\n",
    "df['method_type_name'] = df['method_type'].apply(get_method_type_name)\n",
    "\n",
    "# Determining shape based on is_pareto_front\n",
    "df['shape'] = df['is_pareto_front'].apply(lambda x: 'circle-open' if x else 'square-open')\n",
    "\n",
    "# Plotting with Plotly\n",
    "fig = px.scatter(\n",
    "    df,\n",
    "    x='ell_sqr',\n",
    "    y='expected_edge_overlap',\n",
    "    hover_data=['method_type'],\n",
    "    symbol='shape',\n",
    "    color='method_type_name',\n",
    "    symbol_sequence=['circle-open', 'square-open']\n",
    ")\n",
    "\n",
    "fig.update_xaxes(type='log')\n",
    "fig.update_traces(marker=dict(size=10, line=dict(width=2)))\n",
    "\n",
    "# Updating layout for legend\n",
    "fig.update_layout(\n",
    "    height=800,\n",
    "    legend_title_text='Method Type',\n",
    "    legend=dict(\n",
    "        title='Method Type',\n",
    "        itemsizing='constant',\n",
    "        traceorder='normal',\n",
    "        font=dict(size=10)\n",
    "    )\n",
    ")\n",
    "\n",
    "fig.show()\n"
   ]
  },
  {
   "cell_type": "code",
   "execution_count": null,
   "metadata": {},
   "outputs": [],
   "source": [
    "unique_clusters, cluster_indices = np.unique(clusters, return_inverse=True)\n",
    "H = np.identity(len(unique_clusters))[cluster_indices]\n",
    "\n",
    "HtHinv = np.linalg.inv(H.T @ H)\n",
    "Ppar = H @ HtHinv @ H.T\n",
    "\n",
    "edge_probs = A @ Ppar"
   ]
  }
 ],
 "metadata": {
  "kernelspec": {
   "display_name": "venv",
   "language": "python",
   "name": "python3"
  },
  "language_info": {
   "codemirror_mode": {
    "name": "ipython",
    "version": 3
   },
   "file_extension": ".py",
   "mimetype": "text/x-python",
   "name": "python",
   "nbconvert_exporter": "python",
   "pygments_lexer": "ipython3",
   "version": "3.12.1"
  }
 },
 "nbformat": 4,
 "nbformat_minor": 2
}
