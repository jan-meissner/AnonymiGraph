{
 "cells": [
  {
   "cell_type": "code",
   "execution_count": null,
   "metadata": {},
   "outputs": [],
   "source": [
    "%load_ext autoreload\n",
    "%autoreload 2\n",
    "\n",
    "import logging\n",
    "\n",
    "logging.basicConfig(level=logging.WARNING)\n",
    "logging.getLogger('anonymigraph').setLevel(logging.INFO)"
   ]
  },
  {
   "cell_type": "code",
   "execution_count": null,
   "metadata": {},
   "outputs": [],
   "source": [
    "from anonymigraph.anonymization import k_degree_anonymity\n",
    "from notebook_utils import generate_power_law_graph"
   ]
  },
  {
   "cell_type": "code",
   "execution_count": null,
   "metadata": {},
   "outputs": [],
   "source": [
    "#G = nx.erdos_renyi_graph(1000, 50/1000)\n",
    "G = generate_power_law_graph(num_nodes = 2000, exponent = 2) # K-Degree has problems on power law graphs\n",
    "\n",
    "# Anonymize the Graph G with 100-degree anonymity\n",
    "k = 100\n",
    "Ga = k_degree_anonymity(G, k, noise=10, with_deletions=True, random_seed=31221)"
   ]
  },
  {
   "cell_type": "code",
   "execution_count": null,
   "metadata": {},
   "outputs": [],
   "source": [
    "import matplotlib.pyplot as plt\n",
    "\n",
    "def plot_degree_distribution(G):\n",
    "    degrees = [G.degree(n) for n in G.nodes()]\n",
    "    plt.hist(degrees, bins=range(1, max(degrees)+1), density=False, log=True, align='left')\n",
    "    plt.xlabel('Degree')\n",
    "    plt.ylabel('Count')\n",
    "    plt.xscale('log')\n",
    "    plt.yscale('log')\n",
    "    plt.title('Log-Log Plot of Degree Distribution')\n",
    "    plt.show()\n",
    "\n",
    "plot_degree_distribution(G)"
   ]
  },
  {
   "cell_type": "code",
   "execution_count": null,
   "metadata": {},
   "outputs": [],
   "source": [
    "from collections import Counter\n",
    "\n",
    "def evaluate(graph, k):\n",
    "    \"\"\"Evaluates the level of k-anonymity on a graph.\"\"\"\n",
    "\n",
    "    degree_count = Counter(d for _, d in graph.degree())\n",
    "    k_anonymous_nodes = sum(count for _, count in degree_count.items() if count >= k)\n",
    "\n",
    "    print(\"-\"*30)\n",
    "    print(f\"Number of edges: {graph.number_of_edges()}\")\n",
    "    print(f\"Percentage of nodes that satisfy {k}-degree anonymity: {k_anonymous_nodes / graph.number_of_nodes():.3f}\")\n",
    "    print(f\"Number of isolated nodes: {degree_count[0]}\")\n",
    "\n",
    "k_test = k + 0\n",
    "evaluate(G, k_test)\n",
    "evaluate(Ga, k_test)"
   ]
  },
  {
   "cell_type": "code",
   "execution_count": null,
   "metadata": {},
   "outputs": [],
   "source": [
    "plot_degree_distribution(Ga)"
   ]
  }
 ],
 "metadata": {
  "kernelspec": {
   "display_name": "venv",
   "language": "python",
   "name": "python3"
  },
  "language_info": {
   "codemirror_mode": {
    "name": "ipython",
    "version": 3
   },
   "file_extension": ".py",
   "mimetype": "text/x-python",
   "name": "python",
   "nbconvert_exporter": "python",
   "pygments_lexer": "ipython3",
   "version": "3.12.1"
  }
 },
 "nbformat": 4,
 "nbformat_minor": 2
}
