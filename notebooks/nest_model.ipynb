{
 "cells": [
  {
   "cell_type": "code",
   "execution_count": null,
   "metadata": {},
   "outputs": [],
   "source": [
    "%load_ext autoreload\n",
    "%autoreload 2\n",
    "\n",
    "import logging\n",
    "\n",
    "logging.basicConfig(level=logging.WARNING)\n",
    "logging.getLogger('anonymigraph').setLevel(logging.INFO)"
   ]
  },
  {
   "cell_type": "code",
   "execution_count": null,
   "metadata": {},
   "outputs": [],
   "source": [
    "from notebook_utils import get_ring_of_rings\n",
    "G, pos= get_ring_of_rings(n_rings=6, nodes_per_ring=5, r_ring=3, r_graph=10)"
   ]
  },
  {
   "cell_type": "code",
   "execution_count": null,
   "metadata": {},
   "outputs": [],
   "source": [
    "import anonymigraph.anonymization as anon\n",
    "\n",
    "depth = 2\n",
    "G_nest = anon.nest_model(G, depth=depth, r=10)\n",
    "anon.method_nest_model._validate_nest(G, G_nest, depth)"
   ]
  },
  {
   "cell_type": "code",
   "execution_count": null,
   "metadata": {},
   "outputs": [],
   "source": [
    "import matplotlib\n",
    "import numpy as np\n",
    "import networkx as nx\n",
    "from anonymigraph.anonymization._external.nest_model.fast_wl import WL_fast\n",
    "\n",
    "edges = np.array(G.edges, dtype=np.uint32)\n",
    "bidirectional_edges = np.row_stack((edges, edges[:, [1, 0]]))\n",
    "colors = WL_fast(bidirectional_edges, G.number_of_nodes(), labels=None, max_iter=None)[-1]\n",
    "color_map = matplotlib.colormaps.get_cmap('tab20')\n",
    "assert len(np.unique(colors)) < 20, \"Colormap tab20 only supports 20 distinct colors, please use another colormap if you have more wl colors!\"\n",
    "node_colors = [color_map(cls%19) for cls in colors]\n",
    "\n",
    "# Draw the graph\n",
    "import matplotlib.pyplot as plt\n",
    "plt.figure(figsize=(8, 8))\n",
    "nx.draw(G, pos, with_labels=False, node_color=node_colors, node_size=150, edge_color='gray')\n",
    "plt.title(\"Ring Graph with Weisfeiler Lehman Colors\")\n",
    "plt.show()"
   ]
  },
  {
   "cell_type": "code",
   "execution_count": null,
   "metadata": {},
   "outputs": [],
   "source": [
    "plt.figure(figsize=(16, 8))\n",
    "\n",
    "plt.subplot(1, 2, 1)\n",
    "nx.draw(G, nx.spring_layout(G, iterations=2000), with_labels=False, node_color=node_colors, node_size=150, edge_color='gray')\n",
    "plt.title(\"Ring Graph\")\n",
    "\n",
    "plt.subplot(1, 2, 2)\n",
    "nx.draw(G_nest, nx.spring_layout(G_nest, iterations=2000), with_labels=False, node_color=node_colors, node_size=150, edge_color='gray')\n",
    "plt.title(f\"{depth}-hop NeSt Synthetic Sample from Ring Graph\")\n",
    "\n",
    "plt.show()"
   ]
  },
  {
   "cell_type": "markdown",
   "metadata": {},
   "source": [
    "Attempts on bigger graphs"
   ]
  },
  {
   "cell_type": "code",
   "execution_count": null,
   "metadata": {},
   "outputs": [],
   "source": [
    "#G = nx.erdos_renyi_graph(10000, 30/10000)"
   ]
  },
  {
   "cell_type": "code",
   "execution_count": null,
   "metadata": {},
   "outputs": [],
   "source": [
    "depth = 2\n",
    "G_nest = anon.nest_model(G, depth=depth, r=80)"
   ]
  },
  {
   "cell_type": "code",
   "execution_count": null,
   "metadata": {},
   "outputs": [],
   "source": [
    "anon.method_nest_model._validate_nest(G, G_nest, depth)"
   ]
  }
 ],
 "metadata": {
  "kernelspec": {
   "display_name": "venv",
   "language": "python",
   "name": "python3"
  },
  "language_info": {
   "codemirror_mode": {
    "name": "ipython",
    "version": 3
   },
   "file_extension": ".py",
   "mimetype": "text/x-python",
   "name": "python",
   "nbconvert_exporter": "python",
   "pygments_lexer": "ipython3",
   "version": "3.12.1"
  }
 },
 "nbformat": 4,
 "nbformat_minor": 2
}
