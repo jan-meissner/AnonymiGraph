{
 "cells": [
  {
   "cell_type": "code",
   "execution_count": 1,
   "metadata": {},
   "outputs": [],
   "source": [
    "%load_ext autoreload\n",
    "%autoreload 2"
   ]
  },
  {
   "cell_type": "code",
   "execution_count": 10,
   "metadata": {},
   "outputs": [
    {
     "name": "stdout",
     "output_type": "stream",
     "text": [
      "Are the two forms equivalent?: True\n"
     ]
    }
   ],
   "source": [
    "import numpy as np\n",
    "\n",
    "from numba import njit\n",
    "from greedy_algo_inefficient import compute_obj\n",
    "\n",
    "\n",
    "def exact_loss(v_K, A, clusters, w):\n",
    "    n = len(clusters)\n",
    "    num_clusters = len(set(clusters))\n",
    "    H = np.zeros((n, num_clusters))\n",
    "    cluster_indices = {c: i for i, c in enumerate(sorted(set(clusters)))}\n",
    "    for i, c in enumerate(clusters):\n",
    "        H[i, cluster_indices[c]] = 1\n",
    "    HtHinv = np.linalg.inv(H.T @ H)\n",
    "    Ppar = H @ HtHinv @ H.T\n",
    "\n",
    "\n",
    "    Id = np.identity(n)\n",
    "    ell = np.linalg.norm((Id - Ppar) @ v_K)**2\n",
    "    expected_edge_overlap = np.linalg.norm(A @ Ppar, 'fro')**2\n",
    "    return ell + w * expected_edge_overlap\n",
    "\n",
    "# Example usage\n",
    "v_K = np.random.rand(10)  # Example data matrix with 10 samples and 3 features\n",
    "A = np.random.rand(10, 10)     # Example A matrix\n",
    "clusters = np.array([0, 0, 1, 1, 1, 2, 2, 0, 2, 1])  # Example cluster assignment\n",
    "w = 0.5  # Example weight parameter\n",
    "\n",
    "print(\"Are the two forms equivalent?:\", np.allclose(compute_obj(v_K, A, clusters, w), exact_loss(v_K, A, clusters, w)))"
   ]
  },
  {
   "cell_type": "code",
   "execution_count": 11,
   "metadata": {},
   "outputs": [
    {
     "name": "stdout",
     "output_type": "stream",
     "text": [
      "Best State: [2 2 2 2 1 1 1 1 0 0]\n",
      "Best Objective: 490.5\n"
     ]
    }
   ],
   "source": [
    "from greedy_algo_inefficient import greedy_algorithm_inefficient\n",
    "\n",
    "\n",
    "v_K = np.array([1,2,3,4, 20,21,22,23, 99,100])\n",
    "p = 0.5\n",
    "A = np.random.binomial(1, p, (len(v_K), len(v_K)))\n",
    "inital_clusters = np.array([0,]*len(v_K))\n",
    "w = 20\n",
    "\n",
    "\n",
    "best_state, best_objective = greedy_algorithm_inefficient(v_K, A, inital_clusters, w, two_swap_max_dist=3, one_swap_max_dist=3)\n",
    "\n",
    "print(\"Best State:\", best_state)\n",
    "print(\"Best Objective:\", best_objective)\n"
   ]
  }
 ],
 "metadata": {
  "kernelspec": {
   "display_name": "venv",
   "language": "python",
   "name": "python3"
  },
  "language_info": {
   "codemirror_mode": {
    "name": "ipython",
    "version": 3
   },
   "file_extension": ".py",
   "mimetype": "text/x-python",
   "name": "python",
   "nbconvert_exporter": "python",
   "pygments_lexer": "ipython3",
   "version": "3.12.1"
  }
 },
 "nbformat": 4,
 "nbformat_minor": 2
}
