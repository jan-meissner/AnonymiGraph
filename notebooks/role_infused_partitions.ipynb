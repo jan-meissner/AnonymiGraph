{
 "cells": [
  {
   "cell_type": "code",
   "execution_count": null,
   "metadata": {},
   "outputs": [],
   "source": [
    "%load_ext autoreload\n",
    "%autoreload 2\n",
    "\n",
    "import logging\n",
    "\n",
    "logging.basicConfig(level=logging.WARNING)\n",
    "logging.getLogger('anonymigraph').setLevel(logging.INFO)"
   ]
  },
  {
   "cell_type": "code",
   "execution_count": null,
   "metadata": {},
   "outputs": [],
   "source": [
    "import matplotlib.pyplot as plt\n",
    "import seaborn as sns\n",
    "import numpy as np\n",
    "from sklearn.metrics import confusion_matrix\n",
    "\n",
    "from anonymigraph.generation import role_infused_partition\n",
    "\n",
    "np.random.seed(42)"
   ]
  },
  {
   "cell_type": "markdown",
   "metadata": {},
   "source": [
    "# Get role_infused_partition model"
   ]
  },
  {
   "cell_type": "code",
   "execution_count": null,
   "metadata": {},
   "outputs": [],
   "source": [
    "c = 7  # Number of communities\n",
    "n = 130  # Number of nodes per role\n",
    "k = 12  # Number of roles\n",
    "print(f\"There are c*n*k: {c*n*k} nodes in the graph\")\n",
    "\n",
    "d_inter = 10\n",
    "p = d_inter / (c*n*k) # Each node has roughly d_inter connections with any other node\n",
    "\n",
    "# Random omega_role matrix drawn from a beta distribution to skew values slightly to 0 or 1\n",
    "d_intra = 50\n",
    "omega_role_triu = np.triu(np.random.beta(0.75, 0.75, size=(k, k)), k=1)\n",
    "omega_role = omega_role_triu + omega_role_triu.T\n",
    "omega_role *= d_intra / (n*k/2) # Assumes that rnd dist has expectation of 1/2\n",
    "\n",
    "\n",
    "adjacency_matrix, feature_matrix = role_infused_partition(c, n, p, omega_role, random_seed=42, return_networkx_graph=False)\n",
    "G = role_infused_partition(c, n, p, omega_role, random_seed=42, return_networkx_graph=True)"
   ]
  },
  {
   "cell_type": "code",
   "execution_count": null,
   "metadata": {},
   "outputs": [],
   "source": [
    "plt.figure(figsize=(18, 6))\n",
    "\n",
    "\n",
    "plt.subplot(1, 3, 1)\n",
    "plt.imshow(omega_role, cmap='viridis', interpolation='nearest', aspect='auto')\n",
    "plt.title(\"Omega Role\")\n",
    "plt.colorbar()\n",
    "plt.grid(False)\n",
    "\n",
    "plt.subplot(1, 3, 2)\n",
    "plt.imshow(adjacency_matrix, cmap='hot', interpolation='nearest')\n",
    "plt.title(\"Sampled Adjacency Matrix\")\n",
    "plt.colorbar()\n",
    "plt.grid(False)\n",
    "\n",
    "plt.subplot(1, 3, 3)\n",
    "plt.imshow(feature_matrix, cmap='viridis', interpolation='nearest', aspect='auto')\n",
    "plt.title(\"Feature Matrix\")\n",
    "plt.colorbar()\n",
    "plt.grid(False)\n",
    "plt.xticks(np.arange(2), ['Community', 'Role'])\n",
    "\n",
    "plt.show()"
   ]
  },
  {
   "cell_type": "markdown",
   "metadata": {},
   "source": [
    "# Predicting Communities Labels\n",
    "\n",
    "Assumes that a very high (99.5%) percentage of communities labels are missing from most nodes."
   ]
  },
  {
   "cell_type": "code",
   "execution_count": null,
   "metadata": {},
   "outputs": [],
   "source": [
    "def obfuscate_features(feature_matrix, percentage_missing):\n",
    "    rows, cols = feature_matrix.shape\n",
    "    for col in range(cols):\n",
    "        num_missing = int(rows * percentage_missing)\n",
    "        indices = np.random.choice(rows, num_missing, replace=False)\n",
    "        for idx in indices:\n",
    "            feature_matrix[idx, col] = np.nan\n",
    "\n",
    "    return feature_matrix\n",
    "\n",
    "def predict_community_labels(adj_matrix, labels_with_nans, d):\n",
    "    \"\"\"This is some kind of very simple label propagation algorithm. Probably should use a more advanced one here, laplacian etc.\"\"\"\n",
    "    unique_labels = np.unique(labels_with_nans[~np.isnan(labels_with_nans)])\n",
    "    num_classes = len(unique_labels)\n",
    "    assert np.all(unique_labels == np.arange(num_classes)), \"Unique labels are not like a range\"\n",
    "\n",
    "    # Create a new array with NaNs replaced by num_classes (which will be the index for NaN in one-hot encoding)\n",
    "    labels_with_nanlabel = np.where(np.isnan(labels_with_nans), num_classes, labels_with_nans)\n",
    "    label_counts = np.eye(num_classes+1)[labels_with_nanlabel.astype(int)]\n",
    "\n",
    "    for _ in range(d):\n",
    "        label_counts = adj_matrix @ label_counts\n",
    "\n",
    "    return np.argmax(label_counts[:,:-1], axis=1)\n",
    "\n",
    "\n",
    "def evaluate_model(predicted_labels, true_labels):\n",
    "    correct = np.sum((predicted_labels == true_labels) & (~np.isnan(true_labels)))\n",
    "    total = np.sum(~np.isnan(true_labels))\n",
    "    accuracy = correct / total if total > 0 else 0\n",
    "    return accuracy\n",
    "\n",
    "\n",
    "# Obfuscate the feature matrix with high missing values\n",
    "percentage_missing = 0.995 #\n",
    "print(f\"On average there are (1-percentage_missing)*n*k = {(1-percentage_missing)*n*k:.1f} nodes with their community label not missing per community of n*k={n*k} nodes.\")\n",
    "obfuscated_feature_matrix = obfuscate_features(np.copy(feature_matrix), percentage_missing)\n",
    "\n",
    "# Predict community labels\n",
    "d_hop = 2  # d-hop neighborhood\n",
    "true_labels = feature_matrix[:, 0]\n",
    "predicted_labels = predict_community_labels(adjacency_matrix, obfuscated_feature_matrix[:, 0], d_hop)\n",
    "\n",
    "# Evaluate the model\n",
    "accuracy = evaluate_model(predicted_labels, true_labels)\n",
    "print(f\"Accuracy when predicting the most frequent label in {d_hop}-hop: {accuracy:.3f}. The Baseline of a simple constant label 0 guesser is 1/c = {1/c:.3f}\")\n",
    "cm = confusion_matrix(true_labels, predicted_labels)\n",
    "\n",
    "# Plotting\n",
    "plt.figure(figsize=(10, 7))\n",
    "sns.heatmap(cm, annot=True, fmt='d', cmap='Blues')\n",
    "plt.title('Confusion Matrix')\n",
    "plt.ylabel('True Community Label')\n",
    "plt.xlabel('Predicted Community Label')\n",
    "plt.show()\n"
   ]
  }
 ],
 "metadata": {
  "kernelspec": {
   "display_name": "venv",
   "language": "python",
   "name": "python3"
  },
  "language_info": {
   "codemirror_mode": {
    "name": "ipython",
    "version": 3
   },
   "file_extension": ".py",
   "mimetype": "text/x-python",
   "name": "python",
   "nbconvert_exporter": "python",
   "pygments_lexer": "ipython3",
   "version": "3.12.1"
  }
 },
 "nbformat": 4,
 "nbformat_minor": 2
}
